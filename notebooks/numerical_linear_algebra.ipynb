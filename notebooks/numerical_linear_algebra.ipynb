{
 "cells": [
  {
   "cell_type": "markdown",
   "metadata": {},
   "source": [
    "\n",
    "<a id='numerical-linear-algebra'></a>"
   ]
  },
  {
   "cell_type": "markdown",
   "metadata": {},
   "source": [
    "# Direct Numerical Methods for Linear Algebra"
   ]
  },
  {
   "cell_type": "markdown",
   "metadata": {},
   "source": [
    "## Contents\n",
    "\n",
    "- [Direct Numerical Methods for Linear Algebra](#Direct-Numerical-Methods-for-Linear-Algebra)  \n",
    "  - [Overview](#Overview)  \n",
    "  - [Simple Examples](#Simple-Examples)  \n",
    "  - [Factorizations](#Factorizations)  \n",
    "  - [Calculating the QR Decomposition](#Calculating-the-QR-Decomposition)  \n",
    "  - [Banded Matrices](#Banded-Matrices)  "
   ]
  },
  {
   "cell_type": "markdown",
   "metadata": {},
   "source": [
    "> You cannot learn too much linear algebra. – Benedict Gross"
   ]
  },
  {
   "cell_type": "markdown",
   "metadata": {},
   "source": [
    "## Overview\n",
    "\n",
    "In particular, we will examine the structure of matrices and linear operators (e.g., dense, sparse, symmetric, tridiagonal, banded) and\n",
    "discuss how it can be exploited to radically increase the performance of solving the problems.\n",
    "\n",
    "We build on [linear algebra](linear_algebra.html) and [orthogonal projections](orth_proj.html).\n",
    "\n",
    "The methods in this section are called direct methods, and they are qualitatively similar to performing Gaussian elimination to factor matrices and solve systems.  In [iterative methods and sparsity](iterative_methods_sparsity.html) we examine a different approach with iterative algorithms, and generalized the matrices as linear operators.\n",
    "\n",
    "The list of specialized packages for these tasks is enormous and growing, but some of the important organizations to\n",
    "look at are [JuliaMatrices](https://github.com/JuliaMatrices) , [JuliaSparse](https://github.com/JuliaSparse), and [JuliaMath](https://github.com/JuliaMath)\n",
    "\n",
    "**NOTE** This lecture explores techniques linear algebra, with an emphasis on large systems.  You may wish to review multiple-dispatch and generic programming in  introduction to types, and consider further study on [generic programming](more_julia/generic_programming.html)."
   ]
  },
  {
   "cell_type": "markdown",
   "metadata": {},
   "source": [
    "### Setup"
   ]
  },
  {
   "cell_type": "code",
   "execution_count": 1,
   "metadata": {
    "hide-output": true
   },
   "outputs": [],
   "source": [
    "using LinearAlgebra, Statistics, BenchmarkTools, SparseArrays, Random\n",
    "Random.seed!(42);  # seed random numbers for reproducibility"
   ]
  },
  {
   "cell_type": "markdown",
   "metadata": {},
   "source": [
    "### Applications\n",
    "\n",
    "Some key questions to motivate the lecture.  Is the following a computationally expensive operation as the size of the matrix increases?\n",
    "\n",
    "- Multiplying two matrices?  It depends.  Multiplying 2 diagonals is trivial.  \n",
    "- Solving a linear system of equations?  It depends.  If the matrix is the identity, the solution is the vector itself.  \n",
    "- Finding the eigenvalues of a matrix?  It depends.  The eigenvalues of a triangular matrix are the diagonal.  \n",
    "\n",
    "\n",
    "With that in mind, in this section lecture, we consider variations on three classic problems.\n",
    "\n",
    "First is the solution to\n",
    "\n",
    "$$\n",
    "A x = b\n",
    "$$\n",
    "\n",
    "for a square $ A $ where we will maintain throughout there is a unique solution.\n",
    "\n",
    "On paper, since the [Invertible Matrix Theorem](https://en.wikipedia.org/wiki/Invertible_matrix#The_invertible_matrix_theorem) tells us a unique solution is\n",
    "equivalent to $ A $ being invertible, we often write the solution as\n",
    "\n",
    "$$\n",
    "x = A^{-1} b\n",
    "$$\n",
    "\n",
    "Second, in the case of a rectangular matrix, $ A $ we consider the [linear least-squares](https://en.wikipedia.org/wiki/Linear_least_squares) solution\n",
    "to\n",
    "\n",
    "$$\n",
    "\\min_x ||Ax -b||^2\n",
    "$$\n",
    "\n",
    "From theory, we know that $ A $ has linearly independent columns that the solution is the [normal equations](https://en.wikipedia.org/wiki/Linear_least_squares#Derivation_of_the_normal_equations)\n",
    "\n",
    "$$\n",
    "x = (A'A)^{-1}A'b\n",
    "$$\n",
    "\n",
    "And finally, consider the eigenvalue problem of finding $ x $ and $ \\lambda $ such that\n",
    "\n",
    "$$\n",
    "A x = \\lambda x\n",
    "$$\n",
    "\n",
    "For the eigenvalue problems.  Keep in mind that that you do not always require all of the $ \\lambda $, and sometimes the largest (or smallest) would be enough.  For example, calculating the spectral radius only requires the maximum eigenvalue in absolute value.\n",
    "\n",
    "The theme of this lecture, and numerical linear algebra in general, comes down to three principles:\n",
    "\n",
    "1. **identify structure** (e.g. [symmetric, sparse, diagonal,etc.](https://docs.julialang.org/en/v1/stdlib/LinearAlgebra/index.html#Special-matrices-1)) of $ A $ in order to use **specialized algorithms**  \n",
    "1. **do not lose structure** by applying the wrong linear algebra operations at the wrong times (e.g. sparse matrix becoming dense)  \n",
    "1. understand the **computational complexity** of each algorithm  "
   ]
  },
  {
   "cell_type": "markdown",
   "metadata": {},
   "source": [
    "### Computational Complexity\n",
    "\n",
    "As the goal of this section is to move towards numerical linear algebra of large systems, we need to understand how well algorithms scale with size.  This notion is called [computational complexity](https://en.wikipedia.org/wiki/Computational_complexity).\n",
    "\n",
    "While this notion of complexity can work at various levels such as the number of [significant digits](https://en.wikipedia.org/wiki/Computational_complexity_of_mathematical_operations#Arithmetic_functions) for basic mathematical operations, the amount of memory and storage required, or the amount of time) - but we will typically focus on the time-complexity.\n",
    "\n",
    "For time-complexity, the `N` is usually the dimensionality of the problem, although occasionally the key will be the number of non-zeros in the matrix or width of bands.  For our applications, time-complexity is best thought of as the number of floating point operations (e.g. add, multiply, etc.) required.\n",
    "\n",
    "Complexity of algorithms is typically written in [Big O](https://en.wikipedia.org/wiki/Big_O_notation) notation which provides bounds on the scaling.\n",
    "\n",
    "Formally, we can write this as $ f(N) = O(g(N)) \\text{ as} N \\to \\infty $ wher the interpretation is that there exists some constants $ M, N_0 $ such that\n",
    "\n",
    "$$\n",
    "f(N) \\leq M g(N), \\text{ for } N > N_0\n",
    "$$\n",
    "\n",
    "For example, the complexity of finding an LU Decomposition of a dense matrix is $ O(N^3) $ which should be read as there being a constant where\n",
    "eventually the number of floating point operations required decompose a matrix of size $ N\\times N $ grows cubically.\n",
    "\n",
    "Keep in mind that these are asymptotic results intended to understanding the scaling of the problem, and the constant can matter for a given\n",
    "fixed size.\n",
    "\n",
    "For example, the number of operations required for an [LU decomposition](https://en.wikipedia.org/wiki/LU_decomposition#Algorithms) of a dense $ N \\times N $ matrix $ 2/3 N^3 $, ignoring the $ N^2 $ and lower terms.  However, sparse matrix algorithms instead scale with the number of non-zeros in the matrix instead."
   ]
  },
  {
   "cell_type": "markdown",
   "metadata": {},
   "source": [
    "### Rules of Computational Complexity\n",
    "\n",
    "When combining algorithms, you will sometimes need to think through how [combining algorithms](https://en.wikipedia.org/wiki/Big_O_notation#Properties) changes complexity.  For example, if you do,\n",
    "\n",
    "1. an $ O(N^3) $ operation $ P $ times, then it simply changes the constant and remains $ O(N^3) $  \n",
    "1. one $ O(N^3) $ operation and another $ O(N^2) $ one, then you take the max, which does not change the scale $ O(N^3) $  \n",
    "1. a repetition of a $ O(N) $ operation that itself uses an $ O(N) $ one, you take the product, and the complexity becomes $ O(N^2) $  \n",
    "\n",
    "\n",
    "With this, there is a word of caution: dense matrix-multiplication is an [expensive operation](https://en.wikipedia.org/wiki/Computational_complexity_of_mathematical_operations#Matrix_algebra) for unstructured matrices, and the basic version is $ O(N^3) $.\n",
    "\n",
    "Of course, modern libraries use highly turned and [careful algorithms](https://en.wikipedia.org/wiki/Matrix_multiplication_algorithm) to multiply matrices and exploit the computer architecture, memory cache, etc., but this simply lowers the constant of proportionality and they remain $ O(N^3) $.\n",
    "\n",
    "A consequence is that, since many algorithms require matrix-matrix multiplication, it means that it is usually not possible to go below that order without further matrix structure.\n",
    "\n",
    "That is, changing the constant of proportionality for a given size can help, but in order to achieve higher scaling you need to identify matrix structure and ensure your operations do not lose it."
   ]
  },
  {
   "cell_type": "markdown",
   "metadata": {},
   "source": [
    "### Losing Structure\n",
    "\n",
    "As a first example of a structured matrix, consider a [sparse arrays](https://docs.julialang.org/en/v1/stdlib/SparseArrays/index.html)"
   ]
  },
  {
   "cell_type": "code",
   "execution_count": 2,
   "metadata": {
    "hide-output": false
   },
   "outputs": [
    {
     "name": "stdout",
     "output_type": "stream",
     "text": [
      "nnz(A) = 47\n",
      "nnz(invA) = 100\n"
     ]
    }
   ],
   "source": [
    "A = sprand(10, 10, 0.45)  # random 10x10, 45% filled with non-zeros\n",
    "\n",
    "@show nnz(A)  # counts the number of non-zeros\n",
    "invA = sparse(inv(Array(A)))  # Julia won't even invert sparse directly\n",
    "@show nnz(invA);"
   ]
  },
  {
   "cell_type": "markdown",
   "metadata": {},
   "source": [
    "This increase from 45 to 100 percent dense demonstrates that significant sparsity can be lost when calculating an inverse.\n",
    "\n",
    "The results can be even more extreme.  Consider a tridiagonal matrix of size $ N \\times N $\n",
    "that might come out of a Markov Chain or discretization  of a diffusion process,"
   ]
  },
  {
   "cell_type": "code",
   "execution_count": 3,
   "metadata": {
    "hide-output": false
   },
   "outputs": [
    {
     "data": {
      "text/plain": [
       "5×5 Tridiagonal{Float64,Array{Float64,1}}:\n",
       " 0.8  0.2   ⋅    ⋅    ⋅ \n",
       " 0.1  0.8  0.1   ⋅    ⋅ \n",
       "  ⋅   0.1  0.8  0.1   ⋅ \n",
       "  ⋅    ⋅   0.1  0.8  0.1\n",
       "  ⋅    ⋅    ⋅   0.2  0.8"
      ]
     },
     "execution_count": 3,
     "metadata": {},
     "output_type": "execute_result"
    }
   ],
   "source": [
    "N = 5\n",
    "A = Tridiagonal([fill(0.1, N-2); 0.2], fill(0.8, N), [0.2; fill(0.1, N-2);])"
   ]
  },
  {
   "cell_type": "markdown",
   "metadata": {},
   "source": [
    "The number of non-zeros here is approximately $ 3 N $, linear, which scales well for huge matrices into the millions or billions\n",
    "\n",
    "But consider the inverse"
   ]
  },
  {
   "cell_type": "code",
   "execution_count": 4,
   "metadata": {
    "hide-output": false
   },
   "outputs": [
    {
     "data": {
      "text/plain": [
       "5×5 Array{Float64,2}:\n",
       "  1.29099      -0.327957     0.0416667  -0.00537634   0.000672043\n",
       " -0.163978      1.31183     -0.166667    0.0215054   -0.00268817 \n",
       "  0.0208333    -0.166667     1.29167    -0.166667     0.0208333  \n",
       " -0.00268817    0.0215054   -0.166667    1.31183     -0.163978   \n",
       "  0.000672043  -0.00537634   0.0416667  -0.327957     1.29099    "
      ]
     },
     "execution_count": 4,
     "metadata": {},
     "output_type": "execute_result"
    }
   ],
   "source": [
    "inv(A)"
   ]
  },
  {
   "cell_type": "markdown",
   "metadata": {},
   "source": [
    "Now, the matrix is fully dense and scales $ N^2 $\n",
    "\n",
    "This also applies to the $ A' A $ operation in the normal equations of LLS."
   ]
  },
  {
   "cell_type": "code",
   "execution_count": 5,
   "metadata": {
    "hide-output": false
   },
   "outputs": [
    {
     "name": "stdout",
     "output_type": "stream",
     "text": [
      "nnz(A) / 20 ^ 2 = 0.2825\n",
      "nnz(A' * A) / 21 ^ 2 = 0.800453514739229\n"
     ]
    }
   ],
   "source": [
    "A = sprand(20, 21, 0.3)\n",
    "@show nnz(A)/20^2\n",
    "@show nnz(A'*A)/21^2;"
   ]
  },
  {
   "cell_type": "markdown",
   "metadata": {},
   "source": [
    "While there is some variation based on the randoms chosen, we see that a 30 percent dense matrix becomes almost full dense\n",
    "after the product is taken.\n",
    "\n",
    "**Sparsity/Structure is not just for storage**:  While we have been emphasizing counting the non-zeros as a heuristic, the primary reason to maintain structure\n",
    "and sparsity is not for using less memory to store the matrices.\n",
    "\n",
    "Size can sometimes become important (e.g. a 1 million by 1 million tridiagonal matrix needs to store 3 million numbers (i.e, about 6MB of memory), where a dense one requires 1 trillion (i.e., about 1TB of memory).\n",
    "\n",
    "But, as we will see, the main purpose of considering sparsity and matrix structure is that it enables specialized algorithms which typically\n",
    "have a lower-computational order than unstructured dense, or even an unstructured sparse operations.\n",
    "\n",
    "First, create convenient functions for benchmarking which displays the type"
   ]
  },
  {
   "cell_type": "code",
   "execution_count": 6,
   "metadata": {
    "hide-output": false
   },
   "outputs": [
    {
     "data": {
      "text/plain": [
       "benchmark_solve (generic function with 1 method)"
      ]
     },
     "execution_count": 6,
     "metadata": {},
     "output_type": "execute_result"
    }
   ],
   "source": [
    "using BenchmarkTools\n",
    "function benchmark_solve(A, b)\n",
    "    println(\"A\\\\b for typeof(A) = $(string(typeof(A)))\")\n",
    "    @btime $A \\ $b\n",
    "end"
   ]
  },
  {
   "cell_type": "markdown",
   "metadata": {},
   "source": [
    "Then, take away structure to see the impact on performance,"
   ]
  },
  {
   "cell_type": "code",
   "execution_count": 7,
   "metadata": {
    "hide-output": false
   },
   "outputs": [
    {
     "name": "stdout",
     "output_type": "stream",
     "text": [
      "A\\b for typeof(A) = Tridiagonal{Float64,Array{Float64,1}}\n",
      "  19.700 μs (9 allocations: 47.75 KiB)\n",
      "A\\b for typeof(A) = SparseMatrixCSC{Float64,Int64}\n",
      "  532.799 μs (69 allocations: 1.06 MiB)\n",
      "A\\b for typeof(A) = Array{Float64,2}\n",
      "  26.550 ms (5 allocations: 7.65 MiB)\n"
     ]
    }
   ],
   "source": [
    "N = 1000\n",
    "b = rand(N)\n",
    "A = Tridiagonal([fill(0.1, N-2); 0.2], fill(0.8, N), [0.2; fill(0.1, N-2);])\n",
    "A_sparse = sparse(A)\n",
    "A_dense = Array(A)\n",
    "\n",
    "# benchmark solution to system A x = b and A * B\n",
    "benchmark_solve(A, b)\n",
    "benchmark_solve(A_sparse, b)\n",
    "benchmark_solve(A_dense, b);"
   ]
  },
  {
   "cell_type": "markdown",
   "metadata": {},
   "source": [
    "This example shows what is at stake:  using a structured tridiagonal may be 10-20x faster than using a sparse matrix which is 100x faster then\n",
    "using a dense matrix.\n",
    "\n",
    "In fact, the difference becomes more extreme as the matrices grow.  Solving a tridiagonal system is an $ O(N) $ while that of a dense matrix without any structure is $ O(N^3) $.  The complexity of a sparse solution is more complicated, but roughly scales by $ O(nnz(N)) $, i.e. the number of nonzeros."
   ]
  },
  {
   "cell_type": "markdown",
   "metadata": {},
   "source": [
    "## Simple Examples"
   ]
  },
  {
   "cell_type": "markdown",
   "metadata": {},
   "source": [
    "### Inverting Matrices\n",
    "\n",
    "To begin, consider a simple linear system of a dense matrix"
   ]
  },
  {
   "cell_type": "code",
   "execution_count": 8,
   "metadata": {
    "hide-output": false
   },
   "outputs": [
    {
     "data": {
      "text/plain": [
       "4-element Array{Float64,1}:\n",
       " 0.5125312396664188\n",
       " 0.6828679275339775\n",
       " 0.3454193757566306\n",
       " 0.8706954827549864"
      ]
     },
     "execution_count": 8,
     "metadata": {},
     "output_type": "execute_result"
    }
   ],
   "source": [
    "N = 4\n",
    "A = rand(N,N)\n",
    "b = rand(N)"
   ]
  },
  {
   "cell_type": "markdown",
   "metadata": {},
   "source": [
    "On paper, we to solve for $ A x = b $ by inverting the matrix,"
   ]
  },
  {
   "cell_type": "code",
   "execution_count": 9,
   "metadata": {
    "hide-output": false
   },
   "outputs": [
    {
     "data": {
      "text/plain": [
       "4-element Array{Float64,1}:\n",
       " -0.8230616861035331\n",
       "  1.1336956414831805\n",
       " -1.642325023331038 \n",
       "  2.2104913647288558"
      ]
     },
     "execution_count": 9,
     "metadata": {},
     "output_type": "execute_result"
    }
   ],
   "source": [
    "x = inv(A) * b"
   ]
  },
  {
   "cell_type": "markdown",
   "metadata": {},
   "source": [
    "As we will see, inverting matrices should be used for theory, not for code.  The classic advice that you should [never invert a matrix](https://www.johndcook.com/blog/2010/01/19/dont-invert-that-matrix) may be [slightly exaggerated](https://arxiv.org/abs/1201.6035), but is generally good advice.  In fact, the methods used by libraries to invert matrices typically calculate the same factorizations used for computing a system of equations.\n",
    "\n",
    "To summarize the wisdom: solving a system by inverting a matrix is always a little slower, potentially less accurate, and will often lose crucial sparsity."
   ]
  },
  {
   "cell_type": "markdown",
   "metadata": {},
   "source": [
    "### Triangular Matrices and Back/Forward Substitution\n",
    "\n",
    "To begin, consider solving a system with an `UpperTriangular` matrix,"
   ]
  },
  {
   "cell_type": "code",
   "execution_count": 10,
   "metadata": {
    "hide-output": false
   },
   "outputs": [
    {
     "data": {
      "text/plain": [
       "3×3 UpperTriangular{Float64,Array{Float64,2}}:\n",
       " 1.0  2.0  3.0\n",
       "  ⋅   5.0  6.0\n",
       "  ⋅    ⋅   9.0"
      ]
     },
     "execution_count": 10,
     "metadata": {},
     "output_type": "execute_result"
    }
   ],
   "source": [
    "b = [1.0, 2.0, 3.0]\n",
    "U = UpperTriangular([1.0 2.0 3.0; 0.0 5.0 6.0; 0.0 0.0 9.0])"
   ]
  },
  {
   "cell_type": "markdown",
   "metadata": {},
   "source": [
    "This system is especially easy to solve using [back-substitution](https://en.wikipedia.org/wiki/Triangular_matrix#Forward_and_back_substitution).  In particular, $ x_3 = b_3 / U_{33}, x_2 = (b_2 - x_3 U_{23})/U_{22} $, etc."
   ]
  },
  {
   "cell_type": "code",
   "execution_count": 11,
   "metadata": {
    "hide-output": false
   },
   "outputs": [
    {
     "data": {
      "text/plain": [
       "3-element Array{Float64,1}:\n",
       " 0.0               \n",
       " 0.0               \n",
       " 0.3333333333333333"
      ]
     },
     "execution_count": 11,
     "metadata": {},
     "output_type": "execute_result"
    }
   ],
   "source": [
    "U \\ b"
   ]
  },
  {
   "cell_type": "markdown",
   "metadata": {},
   "source": [
    "A `LowerTriangular` has similar properties and can be solved with forward-substitution.  For these matrices, no further matrix factorization is needed."
   ]
  },
  {
   "cell_type": "markdown",
   "metadata": {},
   "source": [
    "### A Warning on Matrix Multiplication\n",
    "\n",
    "Why we write matrix multiplications in our algebra with abandon, in practice the operation scales very poorly without any matrix structure.\n",
    "\n",
    "Matrix multiplication is so important to modern computers that the constant of scaling in front of the scaling has been radically reduced\n",
    "when using a proper package, but the order is still $ O(N^3) $ in practice.\n",
    "\n",
    "Sparse matrix multiplication, on the other hand, is $ O(N M_A M_B) $ where $ M_A $ are the number of nonzeros per row of $ A $ and $ B $ are the number of non-zeros per column of $ B $.\n",
    "\n",
    "By the rules of computational order, that means any algorithm this means that any algorithm requiring a matrix multiplication of dense matrices requires at least $ O(N^3) $ operation.\n",
    "\n",
    "The other important question is what is the structure of the resulting matrix. As always, we want to avoid losing\n",
    "\n",
    "For example, multiplying an upper triangular by a lower triangular"
   ]
  },
  {
   "cell_type": "code",
   "execution_count": 12,
   "metadata": {
    "hide-output": false
   },
   "outputs": [
    {
     "data": {
      "text/plain": [
       "5×5 UpperTriangular{Float64,Array{Float64,2}}:\n",
       " 0.409653  0.0195282  0.87974     0.552949  0.252486\n",
       "  ⋅        0.436677   0.662624    0.736553  0.224344\n",
       "  ⋅         ⋅         0.00653798  0.649019  0.134132\n",
       "  ⋅         ⋅          ⋅          0.168964  0.834989\n",
       "  ⋅         ⋅          ⋅           ⋅        0.708384"
      ]
     },
     "execution_count": 12,
     "metadata": {},
     "output_type": "execute_result"
    }
   ],
   "source": [
    "N = 5\n",
    "U = UpperTriangular(rand(N,N))"
   ]
  },
  {
   "cell_type": "code",
   "execution_count": 13,
   "metadata": {
    "hide-output": false
   },
   "outputs": [
    {
     "data": {
      "text/plain": [
       "5×5 Adjoint{Float64,UpperTriangular{Float64,Array{Float64,2}}}:\n",
       " 0.409653   0.0       0.0         0.0       0.0     \n",
       " 0.0195282  0.436677  0.0         0.0       0.0     \n",
       " 0.87974    0.662624  0.00653798  0.0       0.0     \n",
       " 0.552949   0.736553  0.649019    0.168964  0.0     \n",
       " 0.252486   0.224344  0.134132    0.834989  0.708384"
      ]
     },
     "execution_count": 13,
     "metadata": {},
     "output_type": "execute_result"
    }
   ],
   "source": [
    "L = U'"
   ]
  },
  {
   "cell_type": "markdown",
   "metadata": {},
   "source": [
    "But the multiplication is fully dense (e.g. think of a cholesky multiplied by itself to produce a covariance matrix)"
   ]
  },
  {
   "cell_type": "code",
   "execution_count": 14,
   "metadata": {
    "hide-output": false
   },
   "outputs": [
    {
     "data": {
      "text/plain": [
       "5×5 Array{Float64,2}:\n",
       " 0.167816    0.00799978  0.360388  0.226517  0.103432\n",
       " 0.00799978  0.191068    0.306533  0.332434  0.102897\n",
       " 0.360388    0.306533    1.21306   0.978752  0.371655\n",
       " 0.226517    0.332434    0.978752  1.29804   0.532991\n",
       " 0.103432    0.102897    0.371655  0.532991  1.33109 "
      ]
     },
     "execution_count": 14,
     "metadata": {},
     "output_type": "execute_result"
    }
   ],
   "source": [
    "L * U"
   ]
  },
  {
   "cell_type": "markdown",
   "metadata": {},
   "source": [
    "On the other hand, a tridiagonal times a diagonal is still a tridiagonal"
   ]
  },
  {
   "cell_type": "code",
   "execution_count": 15,
   "metadata": {
    "hide-output": false
   },
   "outputs": [
    {
     "data": {
      "text/plain": [
       "5×5 Tridiagonal{Float64,Array{Float64,1}}:\n",
       " 0.561922   0.14048     ⋅          ⋅          ⋅      \n",
       " 0.0568224  0.454579   0.0568224   ⋅          ⋅      \n",
       "  ⋅         0.0402454  0.321963   0.0402454   ⋅      \n",
       "  ⋅          ⋅         0.01826    0.14608    0.01826 \n",
       "  ⋅          ⋅          ⋅         0.0123203  0.049281"
      ]
     },
     "execution_count": 15,
     "metadata": {},
     "output_type": "execute_result"
    }
   ],
   "source": [
    "A = Tridiagonal([fill(0.1, N-2); 0.2], fill(0.8, N), [0.2; fill(0.1, N-2);])\n",
    "D = Diagonal(rand(N))\n",
    "D * A"
   ]
  },
  {
   "cell_type": "markdown",
   "metadata": {},
   "source": [
    "## Factorizations\n",
    "\n",
    "When you tell a numerical analyst you are solving a linear system directly, their first question is “which factorization?”\n",
    "\n",
    "\n",
    "<a id='jl-decomposition'></a>"
   ]
  },
  {
   "cell_type": "markdown",
   "metadata": {},
   "source": [
    "### LU Decomposition\n",
    "\n",
    "For a general dense matrix without any other structure (i.e. not known to be symmetric, tridiagonal, etc.) the standard approach is to\n",
    "factor the matrix iin order to exploit the speed of backward and forward substitution to complete the solution.\n",
    "\n",
    "The $ LU $ decompositions finds a lower triangular $ L $ and upper triangular $ U $ such that $ L U = A $.\n",
    "\n",
    "We can see which algorithm Julia will use for the `\\` operator by looking at the `factorize` function for a given\n",
    "matrix."
   ]
  },
  {
   "cell_type": "code",
   "execution_count": 16,
   "metadata": {
    "hide-output": false
   },
   "outputs": [
    {
     "data": {
      "text/plain": [
       "LU{Float64,Array{Float64,2}}\n",
       "L factor:\n",
       "4×4 Array{Float64,2}:\n",
       " 1.0       0.0       0.0       0.0\n",
       " 0.933578  1.0       0.0       0.0\n",
       " 0.613678  0.551771  1.0       0.0\n",
       " 0.686831  0.729438  0.932112  1.0\n",
       "U factor:\n",
       "4×4 Array{Float64,2}:\n",
       " 0.916223  0.0915758  0.221304   0.0908984\n",
       " 0.0       0.712447   0.083115   0.681078 \n",
       " 0.0       0.0        0.806706   0.239325 \n",
       " 0.0       0.0        0.0       -0.452328 "
      ]
     },
     "execution_count": 16,
     "metadata": {},
     "output_type": "execute_result"
    }
   ],
   "source": [
    "N = 4\n",
    "A = rand(N,N)\n",
    "b = rand(N)\n",
    "\n",
    "Af = factorize(A)  # chooses the right factorization, LU here"
   ]
  },
  {
   "cell_type": "markdown",
   "metadata": {},
   "source": [
    "In this case, it provides an $ L $ and $ U $ factorization (with [pivoting](https://en.wikipedia.org/wiki/LU_decomposition#LU_factorization_with_full_pivoting) ).\n",
    "\n",
    "With the factorization complete, we can solve different `b` right hand sides"
   ]
  },
  {
   "cell_type": "code",
   "execution_count": 17,
   "metadata": {
    "hide-output": false
   },
   "outputs": [
    {
     "data": {
      "text/plain": [
       "4-element Array{Float64,1}:\n",
       "  0.06909902818646778\n",
       " -0.453743557563131  \n",
       " -0.11556849117372223\n",
       "  1.4306380720047653 "
      ]
     },
     "execution_count": 17,
     "metadata": {},
     "output_type": "execute_result"
    }
   ],
   "source": [
    "b2 = rand(N)\n",
    "Af \\ b2"
   ]
  },
  {
   "cell_type": "markdown",
   "metadata": {},
   "source": [
    "This decomposition also includes a $ P $ is a [permutation matrix](https://en.wikipedia.org/wiki/Permutation_matrix) such\n",
    "that $ P A = L U $."
   ]
  },
  {
   "cell_type": "code",
   "execution_count": 18,
   "metadata": {
    "hide-output": false
   },
   "outputs": [
    {
     "data": {
      "text/plain": [
       "true"
      ]
     },
     "execution_count": 18,
     "metadata": {},
     "output_type": "execute_result"
    }
   ],
   "source": [
    "Af.P * A ≈ Af.L * Af.U"
   ]
  },
  {
   "cell_type": "markdown",
   "metadata": {},
   "source": [
    "We can also directly calculate an `lu` decomposition without the pivoting,"
   ]
  },
  {
   "cell_type": "code",
   "execution_count": 19,
   "metadata": {
    "hide-output": false
   },
   "outputs": [
    {
     "data": {
      "text/plain": [
       "LU{Float64,Array{Float64,2}}\n",
       "L factor:\n",
       "4×4 Array{Float64,2}:\n",
       " 1.0         0.0      0.0     0.0\n",
       " 0.735697    1.0      0.0     0.0\n",
       " 0.657339   16.8663   1.0     0.0\n",
       " 1.07115   171.134   10.8358  1.0\n",
       "U factor:\n",
       "4×4 Array{Float64,2}:\n",
       " 0.855366   0.79794       0.28972    0.765939\n",
       " 0.0       -0.00445928    0.751419  -0.233514\n",
       " 0.0        0.0         -11.8757     4.10594 \n",
       " 0.0        0.0           0.0       -5.25829 "
      ]
     },
     "execution_count": 19,
     "metadata": {},
     "output_type": "execute_result"
    }
   ],
   "source": [
    "L, U = lu(A, Val(false))  # the Val(false) provides solution without permutation matrices"
   ]
  },
  {
   "cell_type": "markdown",
   "metadata": {},
   "source": [
    "And we can verify the decomposition"
   ]
  },
  {
   "cell_type": "code",
   "execution_count": 20,
   "metadata": {
    "hide-output": false
   },
   "outputs": [
    {
     "data": {
      "text/plain": [
       "true"
      ]
     },
     "execution_count": 20,
     "metadata": {},
     "output_type": "execute_result"
    }
   ],
   "source": [
    "A ≈ L * U"
   ]
  },
  {
   "cell_type": "markdown",
   "metadata": {},
   "source": [
    "To see roughly how the solver works, note that we can write the problem $ A x = b $ as $ L U x = b $.  Let $ U x = y $, which breaks the\n",
    "problem into two sub-problems.\n",
    "\n",
    "$$\n",
    "L y = b\n",
    "U x = y\n",
    "$$\n",
    "\n",
    "To demonstrate this, we can solve it by first using"
   ]
  },
  {
   "cell_type": "code",
   "execution_count": 21,
   "metadata": {
    "hide-output": false
   },
   "outputs": [
    {
     "data": {
      "text/plain": [
       "4-element Array{Float64,1}:\n",
       "  0.49627820582486404\n",
       "  0.2520008871120075 \n",
       " -4.428091208429694  \n",
       "  5.119647290772903  "
      ]
     },
     "execution_count": 21,
     "metadata": {},
     "output_type": "execute_result"
    }
   ],
   "source": [
    "y = L \\ b"
   ]
  },
  {
   "cell_type": "code",
   "execution_count": 22,
   "metadata": {
    "hide-output": false
   },
   "outputs": [
    {
     "data": {
      "text/plain": [
       "true"
      ]
     },
     "execution_count": 22,
     "metadata": {},
     "output_type": "execute_result"
    }
   ],
   "source": [
    "x = U \\ y\n",
    "x ≈ A \\ b  # Check identical"
   ]
  },
  {
   "cell_type": "markdown",
   "metadata": {},
   "source": [
    "The LU decomposition also has specialized algorithms for structured matrices, such as a Tridiagonal"
   ]
  },
  {
   "cell_type": "code",
   "execution_count": 23,
   "metadata": {
    "hide-output": false
   },
   "outputs": [
    {
     "data": {
      "text/plain": [
       "LU{Float64,Tridiagonal{Float64,Array{Float64,1}}}"
      ]
     },
     "execution_count": 23,
     "metadata": {},
     "output_type": "execute_result"
    }
   ],
   "source": [
    "N = 1000\n",
    "b = rand(N)\n",
    "A = Tridiagonal([fill(0.1, N-2); 0.2], fill(0.8, N), [0.2; fill(0.1, N-2);])\n",
    "factorize(A) |> typeof"
   ]
  },
  {
   "cell_type": "markdown",
   "metadata": {},
   "source": [
    "This factorization is the key to the performance of the `A \\ b`\n",
    "\n",
    "Finally, just as a dense matrix without any structure will tend to use a LU decomposition to solve systems,\n",
    "so will a sparse matrix"
   ]
  },
  {
   "cell_type": "code",
   "execution_count": 24,
   "metadata": {
    "hide-output": false
   },
   "outputs": [
    {
     "data": {
      "text/plain": [
       "SuiteSparse.UMFPACK.UmfpackLU{Float64,Int64}"
      ]
     },
     "execution_count": 24,
     "metadata": {},
     "output_type": "execute_result"
    }
   ],
   "source": [
    "A_sparse = sparse(A)\n",
    "factorize(A_sparse) |> typeof  # dropping the tridiagonal structure to just become sparse"
   ]
  },
  {
   "cell_type": "code",
   "execution_count": 25,
   "metadata": {
    "hide-output": false
   },
   "outputs": [
    {
     "name": "stdout",
     "output_type": "stream",
     "text": [
      "A\\b for typeof(A) = Tridiagonal{Float64,Array{Float64,1}}\n",
      "  26.200 μs (9 allocations: 47.75 KiB)\n",
      "A\\b for typeof(A) = SparseMatrixCSC{Float64,Int64}\n",
      "  575.199 μs (69 allocations: 1.06 MiB)\n"
     ]
    }
   ],
   "source": [
    "benchmark_solve(A, b)\n",
    "benchmark_solve(A_sparse, b);"
   ]
  },
  {
   "cell_type": "markdown",
   "metadata": {},
   "source": [
    "### Cholesky Decomposition\n",
    "\n",
    "For real, symmetric, positive definitive matrices, a Cholesky decomposition is a specialized version of the LU decomposition where $ L = U' $.\n",
    "\n",
    "The Cholesky is directly useful on its own (e.g. [Classical Control with Linear Algebra](time_series_models/classical_filtering.html)) but it is also an efficient factorization to solve symmetric positive definite system.\n",
    "\n",
    "As always, symmetry allows specialized algorithms."
   ]
  },
  {
   "cell_type": "code",
   "execution_count": 26,
   "metadata": {
    "hide-output": false
   },
   "outputs": [
    {
     "data": {
      "text/plain": [
       "BunchKaufman{Float64,Array{Float64,2}}"
      ]
     },
     "execution_count": 26,
     "metadata": {},
     "output_type": "execute_result"
    }
   ],
   "source": [
    "N = 500\n",
    "B = rand(N,N)\n",
    "A_dense = B' * B  # an easy way to generate a symmetric positive definite matrix\n",
    "A = Symmetric(A_dense)\n",
    "\n",
    "factorize(A) |> typeof"
   ]
  },
  {
   "cell_type": "markdown",
   "metadata": {},
   "source": [
    "Here, the $ A $ decomposition is [Bunch-Kaufman](https://docs.julialang.org/en/v1/stdlib/LinearAlgebra/index.html#LinearAlgebra.bunchkaufman) rather than a\n",
    "Cholesky, because Julia doesn’t know the matrix is positive definite.  We can manually factorize with a cholesky,"
   ]
  },
  {
   "cell_type": "code",
   "execution_count": 27,
   "metadata": {
    "hide-output": false
   },
   "outputs": [
    {
     "data": {
      "text/plain": [
       "Cholesky{Float64,Array{Float64,2}}"
      ]
     },
     "execution_count": 27,
     "metadata": {},
     "output_type": "execute_result"
    }
   ],
   "source": [
    "cholesky(A) |> typeof"
   ]
  },
  {
   "cell_type": "markdown",
   "metadata": {},
   "source": [
    "Benchmarking,"
   ]
  },
  {
   "cell_type": "code",
   "execution_count": 28,
   "metadata": {
    "hide-output": false
   },
   "outputs": [
    {
     "name": "stdout",
     "output_type": "stream",
     "text": [
      "A\\b for typeof(A) = Symmetric{Float64,Array{Float64,2}}\n",
      "  55.539 ms (8 allocations: 2.16 MiB)\n",
      "A\\b for typeof(A) = Array{Float64,2}\n",
      "  42.937 ms (5 allocations: 1.92 MiB)\n",
      "  8.863 ms (7 allocations: 1.91 MiB)\n"
     ]
    }
   ],
   "source": [
    "b = rand(N)\n",
    "benchmark_solve(A, b)\n",
    "benchmark_solve(A_dense, b)\n",
    "@btime cholesky($A, check=false) \\ $b;"
   ]
  },
  {
   "cell_type": "markdown",
   "metadata": {},
   "source": [
    "## Calculating the QR Decomposition\n",
    "\n",
    "[Previously](orth_proj.html#qr-decomposition) , we learned about applications of the QR application to solving the linear least squares.\n",
    "\n",
    "\n",
    "<dl style='margin: 20px 0;'>\n",
    "<dt>While in principle, the solution to least-squares is $ x = (A'A)^{-1}A'b $, in practice note that $ A'A $ becomes very dense and inverse are</dt>\n",
    "<dd>\n",
    "rarely a good idea.\n",
    "\n",
    "</dd>\n",
    "\n",
    "</dl>\n",
    "\n",
    "The QR decomposition is a decomposition $ A = Q R $ where $ Q $ is an orthogonal matrix (i.e. $ Q'Q = Q Q' = I $) and $ R $ is\n",
    "a upper triangular matrix.\n",
    "\n",
    "Given the  [previous derivation](orth_proj.html#qr-decomposition) we showed that the, given the decomposition, we can write the least squares problem as\n",
    "the solution to\n",
    "\n",
    "$$\n",
    "R x = Q' b\n",
    "$$\n",
    "\n",
    "Where, as discussed above, the upper-triangular structure of $ R $ can be solved easily with back substitution.\n",
    "\n",
    "For Julia, the `\\` operator will solve this problem whenever the given `A` is rectangular"
   ]
  },
  {
   "cell_type": "code",
   "execution_count": 34,
   "metadata": {
    "hide-output": false
   },
   "outputs": [
    {
     "data": {
      "text/plain": [
       "3-element Array{Float64,1}:\n",
       "  0.210701802805989   \n",
       "  0.023316560374275572\n",
       " -0.061369824702479765"
      ]
     },
     "execution_count": 34,
     "metadata": {},
     "output_type": "execute_result"
    }
   ],
   "source": [
    "N = 10\n",
    "M = 3\n",
    "x_true = rand(3)\n",
    "\n",
    "A = rand(N,M) .+ randn(N)\n",
    "b = rand(N)\n",
    "x = A \\ b"
   ]
  },
  {
   "cell_type": "markdown",
   "metadata": {},
   "source": [
    "To manually use the QR decomposition: **Note** the real code would be more subtle"
   ]
  },
  {
   "cell_type": "code",
   "execution_count": 35,
   "metadata": {
    "hide-output": false
   },
   "outputs": [
    {
     "name": "stdout",
     "output_type": "stream",
     "text": [
      "Q * R ≈ A = true\n"
     ]
    },
    {
     "data": {
      "text/plain": [
       "3-element Array{Float64,1}:\n",
       "  0.21070180280598896\n",
       "  0.02331656037427554\n",
       " -0.0613698247024797 "
      ]
     },
     "execution_count": 35,
     "metadata": {},
     "output_type": "execute_result"
    }
   ],
   "source": [
    "Af = qr(A)\n",
    "Q = Af.Q\n",
    "R = [Af.R; zeros(N - M, M)] # Stack with zeros\n",
    "@show Q * R ≈ A\n",
    "x = R \\ Q'*b  # the QR way"
   ]
  },
  {
   "cell_type": "markdown",
   "metadata": {},
   "source": [
    "This stacks the `R` with zeros to multiple, but the more specialized algorithm would not multiply directly\n",
    "in that way.\n",
    "\n",
    "In some cases, if an LU is not available for a particular matrix structure, the QR factorization\n",
    "can also be used to solve systems of equations (i.e. not just LLS).  This tends to be about 2x slower than the LU,\n",
    "but is of the same computational order.\n",
    "\n",
    "To see this,"
   ]
  },
  {
   "cell_type": "code",
   "execution_count": 31,
   "metadata": {
    "hide-output": false
   },
   "outputs": [
    {
     "name": "stdout",
     "output_type": "stream",
     "text": [
      "A \\ b = [-2.5121616885875326, -2.2885498462395253, 4.900473250988739, 4.108181179194703, -3.334611050458787]\n",
      "qr(A) \\ b = [-2.512161688587532, -2.288549846239526, 4.900473250988739, 4.108181179194702, -3.3346110504587867]\n"
     ]
    }
   ],
   "source": [
    "N = 5\n",
    "A = rand(N,N)\n",
    "b = rand(N)\n",
    "@show A \\ b\n",
    "@show qr(A) \\ b;"
   ]
  },
  {
   "cell_type": "markdown",
   "metadata": {},
   "source": [
    "## Banded Matrices"
   ]
  },
  {
   "cell_type": "code",
   "execution_count": null,
   "metadata": {},
   "outputs": [],
   "source": []
  }
 ],
 "metadata": {
  "filename": "numerical_linear_algebra.rst",
  "kernelspec": {
   "display_name": "Julia 1.2.0",
   "language": "julia",
   "name": "julia-1.2"
  },
  "language_info": {
   "file_extension": ".jl",
   "mimetype": "application/julia",
   "name": "julia",
   "version": "1.2.0"
  },
  "title": "Direct Numerical Methods for Linear Algebra"
 },
 "nbformat": 4,
 "nbformat_minor": 4
}
