{
 "cells": [
  {
   "cell_type": "markdown",
   "metadata": {},
   "source": [
    "\n",
    "<a id='iterative-methods-sparsity'></a>"
   ]
  },
  {
   "cell_type": "markdown",
   "metadata": {},
   "source": [
    "# Conditioning and Iterative Methods"
   ]
  },
  {
   "cell_type": "markdown",
   "metadata": {},
   "source": [
    "## Contents\n",
    "\n",
    "- [Conditioning and Iterative Methods](#Conditioning-and-Iterative-Methods)  \n",
    "  - [Overview](#Overview)  \n",
    "  - [Ill-Conditioned Matrices](#Ill-Conditioned-Matrices)  \n",
    "  - [Stationary Iterative Algorithms for Linear Systems](#Stationary-Iterative-Algorithms-for-Linear-Systems)  \n",
    "  - [Krylov Methods](#Krylov-Methods)  "
   ]
  },
  {
   "cell_type": "markdown",
   "metadata": {},
   "source": [
    "## Overview\n",
    "\n",
    "This lecture takes the structure of :doc:` numerical methods for linear algebra <numerical_linear_algebra>` and builds further\n",
    "towards working with large, sparse matrices.  In the process, we will examine foundational numerical analysis such as\n",
    "ill-conditioned matrices."
   ]
  },
  {
   "cell_type": "markdown",
   "metadata": {},
   "source": [
    "### Setup"
   ]
  },
  {
   "cell_type": "code",
   "execution_count": 1,
   "metadata": {
    "hide-output": true
   },
   "outputs": [],
   "source": [
    "using LinearAlgebra, Statistics, BenchmarkTools, Random\n",
    "Random.seed!(42);  # seed random numbers for reproducibility"
   ]
  },
  {
   "cell_type": "markdown",
   "metadata": {},
   "source": [
    "## Ill-Conditioned Matrices\n",
    "\n",
    "An important consideration in numerical linear algebra, and iterative methods in general is the [condition number](https://en.wikipedia.org/wiki/Condition_number#Matrices).\n",
    "\n",
    "An ill-conditioned matrix is one where the basis of eigenvectors are close to, but not exactly, collinear.  While this poses no problem on pen and paper,\n",
    "or with infinite precision numerical methods, it is an important issue in practice for two reasons\n",
    "\n",
    "1. Ill-conditioned matrices introduce numerical errors roughly in proportion to the base-10 log of the condition number.  \n",
    "1. The convergence speed of many iterative methods is based on the spectral properties (e.g. the basis formed by the eigenvectors), and hence ill-conditioned systems can converge slowly.  \n",
    "\n",
    "\n",
    "The solutions to these problems are to\n",
    "\n",
    "- be careful with operations which introduce error based on the condition number (e.g. matrix inversions when the condition number is high)  \n",
    "- where possible, choose alternative representations which have less collinearity (e.g. an orthogonal polynomial basis rather than a monomial one)  \n",
    "- for iterative methods, use a preconditioner, which changes the spectral properties to increase acceleration speed  "
   ]
  },
  {
   "cell_type": "markdown",
   "metadata": {},
   "source": [
    "### Condition Number\n",
    "\n",
    "First, lets define the condition number and example it\n",
    "\n",
    "$$\n",
    "\\kappa(A) = \\|A\\| \\|A^{-1}\\|\n",
    "$$\n",
    "\n",
    "where you can use the Cauchy–Schwarz inequality to show that $ \\kappa(A) \\geq 1 $.  You can choose any norm, but the 2-norm is a good default.\n",
    "\n",
    "First, a warning on calculations: calculating the condition number for a matrix can be an expensive operation (as would calculating a determinant)\n",
    "and should be thought of as roughly equivalent to doing an eigendecomposition.  So use it for detective work judiciously.\n",
    "\n",
    "Lets look at the condition number of a few matrices using the `cond` function (which allows a choice of the norm, but we stick with the 2-norm)."
   ]
  },
  {
   "cell_type": "code",
   "execution_count": 2,
   "metadata": {
    "hide-output": false
   },
   "outputs": [
    {
     "data": {
      "text/plain": [
       "1.0"
      ]
     },
     "execution_count": 2,
     "metadata": {},
     "output_type": "execute_result"
    }
   ],
   "source": [
    "A = I(2)\n",
    "cond(A)"
   ]
  },
  {
   "cell_type": "markdown",
   "metadata": {},
   "source": [
    "Here we see an example of the best-conditioned matrix, the identity matrix with its completely orthonormal basis, is 1.\n",
    "\n",
    "On the other hand, notice that"
   ]
  },
  {
   "cell_type": "code",
   "execution_count": 3,
   "metadata": {
    "hide-output": false
   },
   "outputs": [
    {
     "data": {
      "text/plain": [
       "2.0000000000005004e6"
      ]
     },
     "execution_count": 3,
     "metadata": {},
     "output_type": "execute_result"
    }
   ],
   "source": [
    "ϵ = 1E-6\n",
    "A = [1.0 0.0\n",
    "     1.0 ϵ]\n",
    "cond(A)"
   ]
  },
  {
   "cell_type": "markdown",
   "metadata": {},
   "source": [
    "Has a condition number of close to 100,000 - and hence (taking the base 10 log) you would expect to be introducing numerical errors of around 6 digits if you\n",
    "are not careful.  For example, note that the inverse has both extremely large and extremely small numbers"
   ]
  },
  {
   "cell_type": "code",
   "execution_count": 4,
   "metadata": {
    "hide-output": false
   },
   "outputs": [
    {
     "data": {
      "text/plain": [
       "2×2 Array{Float64,2}:\n",
       "  1.0    0.0  \n",
       " -1.0e6  1.0e6"
      ]
     },
     "execution_count": 4,
     "metadata": {},
     "output_type": "execute_result"
    }
   ],
   "source": [
    "inv(A)"
   ]
  },
  {
   "cell_type": "markdown",
   "metadata": {},
   "source": [
    "Since we know that the determinant of nearly collinear matrices is close to zero, this shows another symptom of poor conditioning"
   ]
  },
  {
   "cell_type": "code",
   "execution_count": 5,
   "metadata": {
    "hide-output": false
   },
   "outputs": [
    {
     "data": {
      "text/plain": [
       "1.0e-6"
      ]
     },
     "execution_count": 5,
     "metadata": {},
     "output_type": "execute_result"
    }
   ],
   "source": [
    "det(A)"
   ]
  },
  {
   "cell_type": "markdown",
   "metadata": {},
   "source": [
    "However, be careful since the determinant has a scale, while the condition number is dimensionless.  That is"
   ]
  },
  {
   "cell_type": "code",
   "execution_count": 6,
   "metadata": {
    "hide-output": false
   },
   "outputs": [
    {
     "name": "stdout",
     "output_type": "stream",
     "text": [
      "det(1000A) = 1.0\n",
      "cond(1000A) = 2.0000000000005e6\n"
     ]
    }
   ],
   "source": [
    "@show det(1000 * A)\n",
    "@show cond(1000 * A);"
   ]
  },
  {
   "cell_type": "markdown",
   "metadata": {},
   "source": [
    "In that case, the determinant of `A` is 1, while the condition number is unchanged.  This example also provides some\n",
    "intuition that ill-conditioned matrices typically occur when a matrix has radically different scales (e.g. contains both `1` and `1E-6`, or `1000` and `1E-3`).  This can occur frequently with both function approximation and linear-least squares."
   ]
  },
  {
   "cell_type": "markdown",
   "metadata": {},
   "source": [
    "### Why Monomial Basis are a Bad Idea\n",
    "\n",
    "A classic example of poorly conditioned matrices is using a monomial basis of a polynomial with interpolation.\n",
    "\n",
    "Take a grid of points, $ x_0, \\ldots x_N $ and values $ y_0, \\ldots y_N $ where we want to calculate the\n",
    "interpolating polynomial.\n",
    "\n",
    "If we were to use the “obvious” polynomial basis, then the calculation is to calculate the coefficients $ c_1, \\ldots c_n $ where\n",
    "\n",
    "$$\n",
    "P(x) = \\sum_{i=0}^N c_i x^i\n",
    "$$\n",
    "\n",
    "To solve for the coefficients, we notice that this is a simple system of equations\n",
    "\n",
    "$$\n",
    "\\begin{array}\n",
    "    \\,y_0 = c_0 + c_1 x_0 + \\ldots c_N x_0^N\\\\\n",
    "    \\,\\ldots\\\\\n",
    "    \\,y_N = c_0 + c_1 x_N + \\ldots c_N x_N^N\n",
    "\\end{array}\n",
    "$$\n",
    "\n",
    "Or, stacking as matrices and vectors $ c = \\begin{bmatrix} c_0 & \\ldots & c_N\\end{bmatrix}, y = \\begin{bmatrix} y_0 & \\ldots & y_N\\end{bmatrix} $ and\n",
    "\n",
    "$$\n",
    "A = \\begin{bmatrix} 1 & x_0 & x_0^2 & \\ldots &x_0^N\\\\\n",
    "                    \\vdots & \\vdots & \\vdots & \\vdots & \\vdots \\\\\n",
    "                    1 & x_N & x_N^2 & \\ldots & x_N^N\n",
    "    \\end{bmatrix}\n",
    "$$\n",
    "\n",
    "We can then calculate the interpolating coefficients as the solution to\n",
    "\n",
    "$$\n",
    "A c = y\n",
    "$$\n",
    "\n",
    "Lets see this in operation"
   ]
  },
  {
   "cell_type": "code",
   "execution_count": 7,
   "metadata": {
    "hide-output": false
   },
   "outputs": [
    {
     "data": {
      "text/plain": [
       "1.1932570487260818e-9"
      ]
     },
     "execution_count": 7,
     "metadata": {},
     "output_type": "execute_result"
    }
   ],
   "source": [
    "N = 5\n",
    "f(x) = exp(x)\n",
    "x = range(0.0, 10.0, length = N+1)\n",
    "y = f.(x)  # generate some data to interpolate\n",
    "\n",
    "A = [x_i^n for x_i in x, n in 0:N]\n",
    "A_inv = inv(A)\n",
    "c = A_inv * y\n",
    "norm(A * c - f.(x), Inf)"
   ]
  },
  {
   "cell_type": "markdown",
   "metadata": {},
   "source": [
    "The final step is to loop.  The Inf-norm (i.e. maximum difference) of the interpolation errors is around `1E-9` which\n",
    "is reasonable for many problems.\n",
    "\n",
    "But note that with $ N=5 $ the condition number is already into the tens of thousands."
   ]
  },
  {
   "cell_type": "code",
   "execution_count": 8,
   "metadata": {
    "hide-output": false
   },
   "outputs": [
    {
     "data": {
      "text/plain": [
       "564652.3214000977"
      ]
     },
     "execution_count": 8,
     "metadata": {},
     "output_type": "execute_result"
    }
   ],
   "source": [
    "cond(A)"
   ]
  },
  {
   "cell_type": "markdown",
   "metadata": {},
   "source": [
    "What if we increase the degree of the polynomial with the hope of increasing the precision of the\n",
    "interpolation?"
   ]
  },
  {
   "cell_type": "code",
   "execution_count": 9,
   "metadata": {
    "hide-output": false
   },
   "outputs": [
    {
     "data": {
      "text/plain": [
       "6.227055564522743e-6"
      ]
     },
     "execution_count": 9,
     "metadata": {},
     "output_type": "execute_result"
    }
   ],
   "source": [
    "N = 10\n",
    "f(x) = exp(x)\n",
    "x = range(0.0, 10.0, length = N+1)\n",
    "y = f.(x)  # generate some data to interpolate\n",
    "\n",
    "A = [x_i^n for x_i in x, n in 0:N]\n",
    "A_inv = inv(A)\n",
    "c = A_inv * y\n",
    "norm(A * c - f.(x), Inf)"
   ]
  },
  {
   "cell_type": "markdown",
   "metadata": {},
   "source": [
    "Here, we see that the the increasing precision is backfiring and by going to the modest basis of 10 we have\n",
    "introduced an error of about `1E-6`, even at the interpolation points.\n",
    "\n",
    "This blows up quickly"
   ]
  },
  {
   "cell_type": "code",
   "execution_count": 10,
   "metadata": {
    "hide-output": false
   },
   "outputs": [
    {
     "data": {
      "text/plain": [
       "35556.55954673688"
      ]
     },
     "execution_count": 10,
     "metadata": {},
     "output_type": "execute_result"
    }
   ],
   "source": [
    "N = 20\n",
    "f(x) = exp(x)\n",
    "x = range(0.0, 10.0, length = N+1)\n",
    "y = f.(x)  # generate some data to interpolate\n",
    "\n",
    "A = [x_i^n for x_i in x, n in 0:N]\n",
    "A_inv = inv(A)\n",
    "c = A_inv * y\n",
    "norm(A * c - f.(x), Inf)"
   ]
  },
  {
   "cell_type": "markdown",
   "metadata": {},
   "source": [
    "To see the source of the issue, we can check to see condition number is astronomical."
   ]
  },
  {
   "cell_type": "code",
   "execution_count": 11,
   "metadata": {
    "hide-output": false
   },
   "outputs": [
    {
     "data": {
      "text/plain": [
       "7.288836972639618e24"
      ]
     },
     "execution_count": 11,
     "metadata": {},
     "output_type": "execute_result"
    }
   ],
   "source": [
    "cond(A)"
   ]
  },
  {
   "cell_type": "markdown",
   "metadata": {},
   "source": [
    "At this point, you should be suspicious of the use of `inv(A)` since we have considered solving\n",
    "linear systems by taking the inverse as verboten.  Indeed, this didn’t help and we see the\n",
    "error drop dramatically."
   ]
  },
  {
   "cell_type": "code",
   "execution_count": 12,
   "metadata": {
    "hide-output": false
   },
   "outputs": [
    {
     "data": {
      "text/plain": [
       "3.4651748137548566e-10"
      ]
     },
     "execution_count": 12,
     "metadata": {},
     "output_type": "execute_result"
    }
   ],
   "source": [
    "c = A \\ y\n",
    "norm(A * c - f.(x), Inf)"
   ]
  },
  {
   "cell_type": "markdown",
   "metadata": {},
   "source": [
    "But an error of `1E-10` at the interpolating nodes themselves can be an issue in many applications, and if you increase `N`\n",
    "then the error will become non-trivial quickly - even without taking the inverse.\n",
    "\n",
    "At the heart of the issue is that the monomial basis leads to a [Vandermonde_matrix](https://en.wikipedia.org/wiki/Vandermonde_matrix) which\n",
    "is especially ill-conditioned.\n",
    "\n",
    "We can also understand a separate type of errors called [Runge’s Phenomena](https://en.wikipedia.org/wiki/Runge%27s_phenomenon).    It is an important\n",
    "issue in approximation theory, albeit not one driven by numerical error themselves.\n",
    "\n",
    "It turns out that using a uniform grid of points is close to the worst possible choice of interpolation nodes for a polynomial approximation.  This phenomena is can be seen with the interpolation of the seemingly innocuous Runge’s function, $ g(x) = \\frac{1}{1 + 25 x^2} $.\n",
    "\n",
    "Let us interpolate this function using the monomial basis above to find the $ c_i $ such that\n",
    "\n",
    "$$\n",
    "\\frac{1}{(1 + 25 x^2} \\approx \\sum_{i=0}^N c_i x^i\n",
    "$$\n",
    "\n",
    "Implementing, where we know that for `N=5` the numerical error from being ill-conditioning is manageable, we see the\n",
    "approximation has large errors at the corners."
   ]
  },
  {
   "cell_type": "code",
   "execution_count": 13,
   "metadata": {
    "hide-output": false
   },
   "outputs": [
    {
     "data": {
      "image/svg+xml": [
       "<?xml version=\"1.0\" encoding=\"utf-8\"?>\n",
       "<svg xmlns=\"http://www.w3.org/2000/svg\" xmlns:xlink=\"http://www.w3.org/1999/xlink\" width=\"600\" height=\"400\" viewBox=\"0 0 2400 1600\">\n",
       "<defs>\n",
       "  <clipPath id=\"clip0800\">\n",
       "    <rect x=\"0\" y=\"0\" width=\"2400\" height=\"1600\"/>\n",
       "  </clipPath>\n",
       "</defs>\n",
       "<polygon clip-path=\"url(#clip0800)\" points=\"\n",
       "0,1600 2400,1600 2400,0 0,0 \n",
       "  \" fill=\"#ffffff\" fill-rule=\"evenodd\" fill-opacity=\"1\"/>\n",
       "<defs>\n",
       "  <clipPath id=\"clip0801\">\n",
       "    <rect x=\"480\" y=\"0\" width=\"1681\" height=\"1600\"/>\n",
       "  </clipPath>\n",
       "</defs>\n",
       "<polygon clip-path=\"url(#clip0800)\" points=\"\n",
       "180.66,1487.47 2352.76,1487.47 2352.76,47.2441 180.66,47.2441 \n",
       "  \" fill=\"#ffffff\" fill-rule=\"evenodd\" fill-opacity=\"1\"/>\n",
       "<defs>\n",
       "  <clipPath id=\"clip0802\">\n",
       "    <rect x=\"180\" y=\"47\" width=\"2173\" height=\"1441\"/>\n",
       "  </clipPath>\n",
       "</defs>\n",
       "<polyline clip-path=\"url(#clip0802)\" style=\"stroke:#000000; stroke-width:2; stroke-opacity:0.1; fill:none\" points=\"\n",
       "  242.135,1487.47 242.135,47.2441 \n",
       "  \"/>\n",
       "<polyline clip-path=\"url(#clip0802)\" style=\"stroke:#000000; stroke-width:2; stroke-opacity:0.1; fill:none\" points=\"\n",
       "  754.421,1487.47 754.421,47.2441 \n",
       "  \"/>\n",
       "<polyline clip-path=\"url(#clip0802)\" style=\"stroke:#000000; stroke-width:2; stroke-opacity:0.1; fill:none\" points=\"\n",
       "  1266.71,1487.47 1266.71,47.2441 \n",
       "  \"/>\n",
       "<polyline clip-path=\"url(#clip0802)\" style=\"stroke:#000000; stroke-width:2; stroke-opacity:0.1; fill:none\" points=\"\n",
       "  1778.99,1487.47 1778.99,47.2441 \n",
       "  \"/>\n",
       "<polyline clip-path=\"url(#clip0802)\" style=\"stroke:#000000; stroke-width:2; stroke-opacity:0.1; fill:none\" points=\"\n",
       "  2291.28,1487.47 2291.28,47.2441 \n",
       "  \"/>\n",
       "<polyline clip-path=\"url(#clip0802)\" style=\"stroke:#000000; stroke-width:2; stroke-opacity:0.1; fill:none\" points=\"\n",
       "  180.66,1375.2 2352.76,1375.2 \n",
       "  \"/>\n",
       "<polyline clip-path=\"url(#clip0802)\" style=\"stroke:#000000; stroke-width:2; stroke-opacity:0.1; fill:none\" points=\"\n",
       "  180.66,1052.58 2352.76,1052.58 \n",
       "  \"/>\n",
       "<polyline clip-path=\"url(#clip0802)\" style=\"stroke:#000000; stroke-width:2; stroke-opacity:0.1; fill:none\" points=\"\n",
       "  180.66,729.96 2352.76,729.96 \n",
       "  \"/>\n",
       "<polyline clip-path=\"url(#clip0802)\" style=\"stroke:#000000; stroke-width:2; stroke-opacity:0.1; fill:none\" points=\"\n",
       "  180.66,407.341 2352.76,407.341 \n",
       "  \"/>\n",
       "<polyline clip-path=\"url(#clip0802)\" style=\"stroke:#000000; stroke-width:2; stroke-opacity:0.1; fill:none\" points=\"\n",
       "  180.66,84.722 2352.76,84.722 \n",
       "  \"/>\n",
       "<polyline clip-path=\"url(#clip0800)\" style=\"stroke:#000000; stroke-width:4; stroke-opacity:1; fill:none\" points=\"\n",
       "  180.66,1487.47 2352.76,1487.47 \n",
       "  \"/>\n",
       "<polyline clip-path=\"url(#clip0800)\" style=\"stroke:#000000; stroke-width:4; stroke-opacity:1; fill:none\" points=\"\n",
       "  180.66,1487.47 180.66,47.2441 \n",
       "  \"/>\n",
       "<polyline clip-path=\"url(#clip0800)\" style=\"stroke:#000000; stroke-width:4; stroke-opacity:1; fill:none\" points=\"\n",
       "  242.135,1487.47 242.135,1465.87 \n",
       "  \"/>\n",
       "<polyline clip-path=\"url(#clip0800)\" style=\"stroke:#000000; stroke-width:4; stroke-opacity:1; fill:none\" points=\"\n",
       "  754.421,1487.47 754.421,1465.87 \n",
       "  \"/>\n",
       "<polyline clip-path=\"url(#clip0800)\" style=\"stroke:#000000; stroke-width:4; stroke-opacity:1; fill:none\" points=\"\n",
       "  1266.71,1487.47 1266.71,1465.87 \n",
       "  \"/>\n",
       "<polyline clip-path=\"url(#clip0800)\" style=\"stroke:#000000; stroke-width:4; stroke-opacity:1; fill:none\" points=\"\n",
       "  1778.99,1487.47 1778.99,1465.87 \n",
       "  \"/>\n",
       "<polyline clip-path=\"url(#clip0800)\" style=\"stroke:#000000; stroke-width:4; stroke-opacity:1; fill:none\" points=\"\n",
       "  2291.28,1487.47 2291.28,1465.87 \n",
       "  \"/>\n",
       "<polyline clip-path=\"url(#clip0800)\" style=\"stroke:#000000; stroke-width:4; stroke-opacity:1; fill:none\" points=\"\n",
       "  180.66,1375.2 213.242,1375.2 \n",
       "  \"/>\n",
       "<polyline clip-path=\"url(#clip0800)\" style=\"stroke:#000000; stroke-width:4; stroke-opacity:1; fill:none\" points=\"\n",
       "  180.66,1052.58 213.242,1052.58 \n",
       "  \"/>\n",
       "<polyline clip-path=\"url(#clip0800)\" style=\"stroke:#000000; stroke-width:4; stroke-opacity:1; fill:none\" points=\"\n",
       "  180.66,729.96 213.242,729.96 \n",
       "  \"/>\n",
       "<polyline clip-path=\"url(#clip0800)\" style=\"stroke:#000000; stroke-width:4; stroke-opacity:1; fill:none\" points=\"\n",
       "  180.66,407.341 213.242,407.341 \n",
       "  \"/>\n",
       "<polyline clip-path=\"url(#clip0800)\" style=\"stroke:#000000; stroke-width:4; stroke-opacity:1; fill:none\" points=\"\n",
       "  180.66,84.722 213.242,84.722 \n",
       "  \"/>\n",
       "<g clip-path=\"url(#clip0800)\">\n",
       "<text style=\"fill:#000000; fill-opacity:1; font-family:Arial,Helvetica Neue,Helvetica,sans-serif; font-size:48px; text-anchor:middle;\" transform=\"rotate(0, 242.135, 1541.47)\" x=\"242.135\" y=\"1541.47\">-1.0</text>\n",
       "</g>\n",
       "<g clip-path=\"url(#clip0800)\">\n",
       "<text style=\"fill:#000000; fill-opacity:1; font-family:Arial,Helvetica Neue,Helvetica,sans-serif; font-size:48px; text-anchor:middle;\" transform=\"rotate(0, 754.421, 1541.47)\" x=\"754.421\" y=\"1541.47\">-0.5</text>\n",
       "</g>\n",
       "<g clip-path=\"url(#clip0800)\">\n",
       "<text style=\"fill:#000000; fill-opacity:1; font-family:Arial,Helvetica Neue,Helvetica,sans-serif; font-size:48px; text-anchor:middle;\" transform=\"rotate(0, 1266.71, 1541.47)\" x=\"1266.71\" y=\"1541.47\">0.0</text>\n",
       "</g>\n",
       "<g clip-path=\"url(#clip0800)\">\n",
       "<text style=\"fill:#000000; fill-opacity:1; font-family:Arial,Helvetica Neue,Helvetica,sans-serif; font-size:48px; text-anchor:middle;\" transform=\"rotate(0, 1778.99, 1541.47)\" x=\"1778.99\" y=\"1541.47\">0.5</text>\n",
       "</g>\n",
       "<g clip-path=\"url(#clip0800)\">\n",
       "<text style=\"fill:#000000; fill-opacity:1; font-family:Arial,Helvetica Neue,Helvetica,sans-serif; font-size:48px; text-anchor:middle;\" transform=\"rotate(0, 2291.28, 1541.47)\" x=\"2291.28\" y=\"1541.47\">1.0</text>\n",
       "</g>\n",
       "<g clip-path=\"url(#clip0800)\">\n",
       "<text style=\"fill:#000000; fill-opacity:1; font-family:Arial,Helvetica Neue,Helvetica,sans-serif; font-size:48px; text-anchor:end;\" transform=\"rotate(0, 156.66, 1392.7)\" x=\"156.66\" y=\"1392.7\">0.00</text>\n",
       "</g>\n",
       "<g clip-path=\"url(#clip0800)\">\n",
       "<text style=\"fill:#000000; fill-opacity:1; font-family:Arial,Helvetica Neue,Helvetica,sans-serif; font-size:48px; text-anchor:end;\" transform=\"rotate(0, 156.66, 1070.08)\" x=\"156.66\" y=\"1070.08\">0.25</text>\n",
       "</g>\n",
       "<g clip-path=\"url(#clip0800)\">\n",
       "<text style=\"fill:#000000; fill-opacity:1; font-family:Arial,Helvetica Neue,Helvetica,sans-serif; font-size:48px; text-anchor:end;\" transform=\"rotate(0, 156.66, 747.46)\" x=\"156.66\" y=\"747.46\">0.50</text>\n",
       "</g>\n",
       "<g clip-path=\"url(#clip0800)\">\n",
       "<text style=\"fill:#000000; fill-opacity:1; font-family:Arial,Helvetica Neue,Helvetica,sans-serif; font-size:48px; text-anchor:end;\" transform=\"rotate(0, 156.66, 424.841)\" x=\"156.66\" y=\"424.841\">0.75</text>\n",
       "</g>\n",
       "<g clip-path=\"url(#clip0800)\">\n",
       "<text style=\"fill:#000000; fill-opacity:1; font-family:Arial,Helvetica Neue,Helvetica,sans-serif; font-size:48px; text-anchor:end;\" transform=\"rotate(0, 156.66, 102.222)\" x=\"156.66\" y=\"102.222\">1.00</text>\n",
       "</g>\n",
       "<polyline clip-path=\"url(#clip0802)\" style=\"stroke:#009af9; stroke-width:4; stroke-opacity:1; fill:none\" points=\"\n",
       "  242.135,1325.57 262.833,1357.82 283.532,1384.61 304.23,1406.23 324.929,1422.97 345.627,1435.11 366.325,1442.93 387.024,1446.71 407.722,1446.71 428.421,1443.2 \n",
       "  449.119,1436.42 469.818,1426.63 490.516,1414.07 511.215,1398.97 531.913,1381.56 552.612,1362.07 573.31,1340.71 594.008,1317.69 614.707,1293.22 635.405,1267.5 \n",
       "  656.104,1240.72 676.802,1213.06 697.501,1184.71 718.199,1155.83 738.898,1126.6 759.596,1097.17 780.294,1067.71 800.993,1038.36 821.691,1009.26 842.39,980.552 \n",
       "  863.088,952.362 883.787,924.817 904.485,898.032 925.184,872.121 945.882,847.189 966.581,823.334 987.279,800.65 1007.98,779.223 1028.68,759.135 1049.37,740.459 \n",
       "  1070.07,723.264 1090.77,707.612 1111.47,693.558 1132.17,681.153 1152.87,670.439 1173.57,661.454 1194.26,654.229 1214.96,648.788 1235.66,645.151 1256.36,643.329 \n",
       "  1277.06,643.329 1297.76,645.151 1318.45,648.788 1339.15,654.229 1359.85,661.454 1380.55,670.439 1401.25,681.153 1421.95,693.558 1442.64,707.612 1463.34,723.264 \n",
       "  1484.04,740.459 1504.74,759.135 1525.44,779.223 1546.14,800.65 1566.84,823.334 1587.53,847.189 1608.23,872.121 1628.93,898.032 1649.63,924.817 1670.33,952.362 \n",
       "  1691.03,980.552 1711.72,1009.26 1732.42,1038.36 1753.12,1067.71 1773.82,1097.17 1794.52,1126.6 1815.22,1155.83 1835.92,1184.71 1856.61,1213.06 1877.31,1240.72 \n",
       "  1898.01,1267.5 1918.71,1293.22 1939.41,1317.69 1960.11,1340.71 1980.8,1362.07 2001.5,1381.56 2022.2,1398.97 2042.9,1414.07 2063.6,1426.63 2084.3,1436.42 \n",
       "  2105,1443.2 2125.69,1446.71 2146.39,1446.71 2167.09,1442.93 2187.79,1435.11 2208.49,1422.97 2229.19,1406.23 2249.88,1384.61 2270.58,1357.82 2291.28,1325.57 \n",
       "  \n",
       "  \"/>\n",
       "<polyline clip-path=\"url(#clip0802)\" style=\"stroke:#e26f46; stroke-width:12; stroke-opacity:1; fill:none\" points=\"\n",
       "  242.135,1325.57 262.833,1323.58 283.532,1321.48 304.23,1319.24 324.929,1316.87 345.627,1314.34 366.325,1311.65 387.024,1308.78 407.722,1305.71 428.421,1302.44 \n",
       "  449.119,1298.93 469.818,1295.16 490.516,1291.12 511.215,1286.77 531.913,1282.08 552.612,1277.02 573.31,1271.55 594.008,1265.62 614.707,1259.19 635.405,1252.2 \n",
       "  656.104,1244.57 676.802,1236.25 697.501,1227.14 718.199,1217.15 738.898,1206.17 759.596,1194.06 780.294,1180.69 800.993,1165.89 821.691,1149.45 842.39,1131.15 \n",
       "  863.088,1110.74 883.787,1087.91 904.485,1062.33 925.184,1033.6 945.882,1001.29 966.581,964.897 987.279,923.905 1007.98,877.757 1028.68,825.908 1049.37,767.883 \n",
       "  1070.07,703.364 1090.77,632.337 1111.47,555.287 1132.17,473.448 1152.87,389.08 1173.57,305.694 1194.26,228.095 1214.96,162.081 1235.66,113.682 1256.36,88.0053 \n",
       "  1277.06,88.0053 1297.76,113.682 1318.45,162.081 1339.15,228.095 1359.85,305.694 1380.55,389.08 1401.25,473.448 1421.95,555.287 1442.64,632.337 1463.34,703.364 \n",
       "  1484.04,767.883 1504.74,825.908 1525.44,877.757 1546.14,923.905 1566.84,964.897 1587.53,1001.29 1608.23,1033.6 1628.93,1062.33 1649.63,1087.91 1670.33,1110.74 \n",
       "  1691.03,1131.15 1711.72,1149.45 1732.42,1165.89 1753.12,1180.69 1773.82,1194.06 1794.52,1206.17 1815.22,1217.15 1835.92,1227.14 1856.61,1236.25 1877.31,1244.57 \n",
       "  1898.01,1252.2 1918.71,1259.19 1939.41,1265.62 1960.11,1271.55 1980.8,1277.02 2001.5,1282.08 2022.2,1286.77 2042.9,1291.12 2063.6,1295.16 2084.3,1298.93 \n",
       "  2105,1302.44 2125.69,1305.71 2146.39,1308.78 2167.09,1311.65 2187.79,1314.34 2208.49,1316.87 2229.19,1319.24 2249.88,1321.48 2270.58,1323.58 2291.28,1325.57 \n",
       "  \n",
       "  \"/>\n",
       "<polygon clip-path=\"url(#clip0800)\" points=\"\n",
       "1864.2,312.204 2280.76,312.204 2280.76,130.764 1864.2,130.764 \n",
       "  \" fill=\"#ffffff\" fill-rule=\"evenodd\" fill-opacity=\"1\"/>\n",
       "<polyline clip-path=\"url(#clip0800)\" style=\"stroke:#000000; stroke-width:4; stroke-opacity:1; fill:none\" points=\"\n",
       "  1864.2,312.204 2280.76,312.204 2280.76,130.764 1864.2,130.764 1864.2,312.204 \n",
       "  \"/>\n",
       "<polyline clip-path=\"url(#clip0800)\" style=\"stroke:#009af9; stroke-width:4; stroke-opacity:1; fill:none\" points=\"\n",
       "  1888.2,191.244 2032.2,191.244 \n",
       "  \"/>\n",
       "<g clip-path=\"url(#clip0800)\">\n",
       "<text style=\"fill:#000000; fill-opacity:1; font-family:Arial,Helvetica Neue,Helvetica,sans-serif; font-size:48px; text-anchor:start;\" transform=\"rotate(0, 2056.2, 208.744)\" x=\"2056.2\" y=\"208.744\">N=5</text>\n",
       "</g>\n",
       "<polyline clip-path=\"url(#clip0800)\" style=\"stroke:#e26f46; stroke-width:12; stroke-opacity:1; fill:none\" points=\"\n",
       "  1888.2,251.724 2032.2,251.724 \n",
       "  \"/>\n",
       "<g clip-path=\"url(#clip0800)\">\n",
       "<text style=\"fill:#000000; fill-opacity:1; font-family:Arial,Helvetica Neue,Helvetica,sans-serif; font-size:48px; text-anchor:start;\" transform=\"rotate(0, 2056.2, 269.224)\" x=\"2056.2\" y=\"269.224\">Runge&apos;s</text>\n",
       "</g>\n",
       "</svg>\n"
      ]
     },
     "execution_count": 13,
     "metadata": {},
     "output_type": "execute_result"
    }
   ],
   "source": [
    "using Plots\n",
    "N_display = 100\n",
    "g(x) = 1/(1 + 25x^2)\n",
    "x_display = range(-1, 1, length = N_display)\n",
    "y_display = g.(x_display)\n",
    "\n",
    "# interpolation\n",
    "N = 5\n",
    "x = range(-1.0, 1.0, length = N+1)\n",
    "y = g.(x)\n",
    "A_5 = [x_i^n for x_i in x, n in 0:N]\n",
    "c_5 = A_5 \\ y\n",
    "\n",
    "# use the coefficients to evaluate on x_display grid\n",
    "B_5 = [x_i^n for x_i in x_display, n in 0:N]   # calculate monomials for display grid\n",
    "y_5 = B_5 * c_5  # calculates for each in x_display_grid\n",
    "plot(x_display, y_5, label = \"N=5\")\n",
    "plot!(x_display, y_display, w = 3, label = \"Runge's\")"
   ]
  },
  {
   "cell_type": "markdown",
   "metadata": {},
   "source": [
    "This has the hallmark oscillations near the boundaries of Runge’s Phenomena.  You might guess that increasing the number\n",
    "of grid points and order of the polynomial will lead to better approximations"
   ]
  },
  {
   "cell_type": "code",
   "execution_count": 14,
   "metadata": {
    "hide-output": false
   },
   "outputs": [
    {
     "data": {
      "image/svg+xml": [
       "<?xml version=\"1.0\" encoding=\"utf-8\"?>\n",
       "<svg xmlns=\"http://www.w3.org/2000/svg\" xmlns:xlink=\"http://www.w3.org/1999/xlink\" width=\"600\" height=\"400\" viewBox=\"0 0 2400 1600\">\n",
       "<defs>\n",
       "  <clipPath id=\"clip1200\">\n",
       "    <rect x=\"0\" y=\"0\" width=\"2400\" height=\"1600\"/>\n",
       "  </clipPath>\n",
       "</defs>\n",
       "<polygon clip-path=\"url(#clip1200)\" points=\"\n",
       "0,1600 2400,1600 2400,0 0,0 \n",
       "  \" fill=\"#ffffff\" fill-rule=\"evenodd\" fill-opacity=\"1\"/>\n",
       "<defs>\n",
       "  <clipPath id=\"clip1201\">\n",
       "    <rect x=\"480\" y=\"0\" width=\"1681\" height=\"1600\"/>\n",
       "  </clipPath>\n",
       "</defs>\n",
       "<polygon clip-path=\"url(#clip1200)\" points=\"\n",
       "153.898,1487.47 2352.76,1487.47 2352.76,47.2441 153.898,47.2441 \n",
       "  \" fill=\"#ffffff\" fill-rule=\"evenodd\" fill-opacity=\"1\"/>\n",
       "<defs>\n",
       "  <clipPath id=\"clip1202\">\n",
       "    <rect x=\"153\" y=\"47\" width=\"2200\" height=\"1441\"/>\n",
       "  </clipPath>\n",
       "</defs>\n",
       "<polyline clip-path=\"url(#clip1202)\" style=\"stroke:#000000; stroke-width:2; stroke-opacity:0.1; fill:none\" points=\"\n",
       "  216.13,1487.47 216.13,47.2441 \n",
       "  \"/>\n",
       "<polyline clip-path=\"url(#clip1202)\" style=\"stroke:#000000; stroke-width:2; stroke-opacity:0.1; fill:none\" points=\"\n",
       "  734.728,1487.47 734.728,47.2441 \n",
       "  \"/>\n",
       "<polyline clip-path=\"url(#clip1202)\" style=\"stroke:#000000; stroke-width:2; stroke-opacity:0.1; fill:none\" points=\"\n",
       "  1253.33,1487.47 1253.33,47.2441 \n",
       "  \"/>\n",
       "<polyline clip-path=\"url(#clip1202)\" style=\"stroke:#000000; stroke-width:2; stroke-opacity:0.1; fill:none\" points=\"\n",
       "  1771.93,1487.47 1771.93,47.2441 \n",
       "  \"/>\n",
       "<polyline clip-path=\"url(#clip1202)\" style=\"stroke:#000000; stroke-width:2; stroke-opacity:0.1; fill:none\" points=\"\n",
       "  2290.52,1487.47 2290.52,47.2441 \n",
       "  \"/>\n",
       "<polyline clip-path=\"url(#clip1202)\" style=\"stroke:#000000; stroke-width:2; stroke-opacity:0.1; fill:none\" points=\"\n",
       "  153.898,1172.01 2352.76,1172.01 \n",
       "  \"/>\n",
       "<polyline clip-path=\"url(#clip1202)\" style=\"stroke:#000000; stroke-width:2; stroke-opacity:0.1; fill:none\" points=\"\n",
       "  153.898,845.98 2352.76,845.98 \n",
       "  \"/>\n",
       "<polyline clip-path=\"url(#clip1202)\" style=\"stroke:#000000; stroke-width:2; stroke-opacity:0.1; fill:none\" points=\"\n",
       "  153.898,519.949 2352.76,519.949 \n",
       "  \"/>\n",
       "<polyline clip-path=\"url(#clip1202)\" style=\"stroke:#000000; stroke-width:2; stroke-opacity:0.1; fill:none\" points=\"\n",
       "  153.898,193.917 2352.76,193.917 \n",
       "  \"/>\n",
       "<polyline clip-path=\"url(#clip1200)\" style=\"stroke:#000000; stroke-width:4; stroke-opacity:1; fill:none\" points=\"\n",
       "  153.898,1487.47 2352.76,1487.47 \n",
       "  \"/>\n",
       "<polyline clip-path=\"url(#clip1200)\" style=\"stroke:#000000; stroke-width:4; stroke-opacity:1; fill:none\" points=\"\n",
       "  153.898,1487.47 153.898,47.2441 \n",
       "  \"/>\n",
       "<polyline clip-path=\"url(#clip1200)\" style=\"stroke:#000000; stroke-width:4; stroke-opacity:1; fill:none\" points=\"\n",
       "  216.13,1487.47 216.13,1465.87 \n",
       "  \"/>\n",
       "<polyline clip-path=\"url(#clip1200)\" style=\"stroke:#000000; stroke-width:4; stroke-opacity:1; fill:none\" points=\"\n",
       "  734.728,1487.47 734.728,1465.87 \n",
       "  \"/>\n",
       "<polyline clip-path=\"url(#clip1200)\" style=\"stroke:#000000; stroke-width:4; stroke-opacity:1; fill:none\" points=\"\n",
       "  1253.33,1487.47 1253.33,1465.87 \n",
       "  \"/>\n",
       "<polyline clip-path=\"url(#clip1200)\" style=\"stroke:#000000; stroke-width:4; stroke-opacity:1; fill:none\" points=\"\n",
       "  1771.93,1487.47 1771.93,1465.87 \n",
       "  \"/>\n",
       "<polyline clip-path=\"url(#clip1200)\" style=\"stroke:#000000; stroke-width:4; stroke-opacity:1; fill:none\" points=\"\n",
       "  2290.52,1487.47 2290.52,1465.87 \n",
       "  \"/>\n",
       "<polyline clip-path=\"url(#clip1200)\" style=\"stroke:#000000; stroke-width:4; stroke-opacity:1; fill:none\" points=\"\n",
       "  153.898,1172.01 186.881,1172.01 \n",
       "  \"/>\n",
       "<polyline clip-path=\"url(#clip1200)\" style=\"stroke:#000000; stroke-width:4; stroke-opacity:1; fill:none\" points=\"\n",
       "  153.898,845.98 186.881,845.98 \n",
       "  \"/>\n",
       "<polyline clip-path=\"url(#clip1200)\" style=\"stroke:#000000; stroke-width:4; stroke-opacity:1; fill:none\" points=\"\n",
       "  153.898,519.949 186.881,519.949 \n",
       "  \"/>\n",
       "<polyline clip-path=\"url(#clip1200)\" style=\"stroke:#000000; stroke-width:4; stroke-opacity:1; fill:none\" points=\"\n",
       "  153.898,193.917 186.881,193.917 \n",
       "  \"/>\n",
       "<g clip-path=\"url(#clip1200)\">\n",
       "<text style=\"fill:#000000; fill-opacity:1; font-family:Arial,Helvetica Neue,Helvetica,sans-serif; font-size:48px; text-anchor:middle;\" transform=\"rotate(0, 216.13, 1541.47)\" x=\"216.13\" y=\"1541.47\">-1.0</text>\n",
       "</g>\n",
       "<g clip-path=\"url(#clip1200)\">\n",
       "<text style=\"fill:#000000; fill-opacity:1; font-family:Arial,Helvetica Neue,Helvetica,sans-serif; font-size:48px; text-anchor:middle;\" transform=\"rotate(0, 734.728, 1541.47)\" x=\"734.728\" y=\"1541.47\">-0.5</text>\n",
       "</g>\n",
       "<g clip-path=\"url(#clip1200)\">\n",
       "<text style=\"fill:#000000; fill-opacity:1; font-family:Arial,Helvetica Neue,Helvetica,sans-serif; font-size:48px; text-anchor:middle;\" transform=\"rotate(0, 1253.33, 1541.47)\" x=\"1253.33\" y=\"1541.47\">0.0</text>\n",
       "</g>\n",
       "<g clip-path=\"url(#clip1200)\">\n",
       "<text style=\"fill:#000000; fill-opacity:1; font-family:Arial,Helvetica Neue,Helvetica,sans-serif; font-size:48px; text-anchor:middle;\" transform=\"rotate(0, 1771.93, 1541.47)\" x=\"1771.93\" y=\"1541.47\">0.5</text>\n",
       "</g>\n",
       "<g clip-path=\"url(#clip1200)\">\n",
       "<text style=\"fill:#000000; fill-opacity:1; font-family:Arial,Helvetica Neue,Helvetica,sans-serif; font-size:48px; text-anchor:middle;\" transform=\"rotate(0, 2290.52, 1541.47)\" x=\"2290.52\" y=\"1541.47\">1.0</text>\n",
       "</g>\n",
       "<g clip-path=\"url(#clip1200)\">\n",
       "<text style=\"fill:#000000; fill-opacity:1; font-family:Arial,Helvetica Neue,Helvetica,sans-serif; font-size:48px; text-anchor:end;\" transform=\"rotate(0, 129.898, 1189.51)\" x=\"129.898\" y=\"1189.51\">0.0</text>\n",
       "</g>\n",
       "<g clip-path=\"url(#clip1200)\">\n",
       "<text style=\"fill:#000000; fill-opacity:1; font-family:Arial,Helvetica Neue,Helvetica,sans-serif; font-size:48px; text-anchor:end;\" transform=\"rotate(0, 129.898, 863.48)\" x=\"129.898\" y=\"863.48\">0.3</text>\n",
       "</g>\n",
       "<g clip-path=\"url(#clip1200)\">\n",
       "<text style=\"fill:#000000; fill-opacity:1; font-family:Arial,Helvetica Neue,Helvetica,sans-serif; font-size:48px; text-anchor:end;\" transform=\"rotate(0, 129.898, 537.449)\" x=\"129.898\" y=\"537.449\">0.6</text>\n",
       "</g>\n",
       "<g clip-path=\"url(#clip1200)\">\n",
       "<text style=\"fill:#000000; fill-opacity:1; font-family:Arial,Helvetica Neue,Helvetica,sans-serif; font-size:48px; text-anchor:end;\" transform=\"rotate(0, 129.898, 211.417)\" x=\"129.898\" y=\"211.417\">0.9</text>\n",
       "</g>\n",
       "<polyline clip-path=\"url(#clip1202)\" style=\"stroke:#009af9; stroke-width:4; stroke-opacity:1; fill:none\" points=\"\n",
       "  216.13,1130.21 237.083,1303.42 258.037,1402.25 278.99,1444.94 299.944,1446.71 320.897,1420.11 341.851,1375.31 362.804,1320.44 383.758,1261.82 404.711,1204.2 \n",
       "  425.665,1151.02 446.618,1104.61 467.572,1066.32 488.525,1036.77 509.478,1015.92 530.432,1003.27 551.385,997.943 572.339,998.785 593.292,1004.48 614.246,1013.6 \n",
       "  635.199,1024.72 656.153,1036.41 677.106,1047.32 698.06,1056.24 719.013,1062.08 739.967,1063.91 760.92,1060.98 781.874,1052.75 802.827,1038.84 823.781,1019.09 \n",
       "  844.734,993.498 865.688,962.254 886.641,925.703 907.595,884.336 928.548,838.776 949.502,789.755 970.455,738.095 991.408,684.687 1012.36,630.471 1033.32,576.413 \n",
       "  1054.27,523.483 1075.22,472.639 1096.18,424.801 1117.13,380.84 1138.08,341.554 1159.04,307.659 1179.99,279.772 1200.94,258.4 1221.9,243.932 1242.85,236.632 \n",
       "  1263.8,236.632 1284.76,243.932 1305.71,258.4 1326.66,279.772 1347.62,307.659 1368.57,341.554 1389.52,380.84 1410.48,424.801 1431.43,472.639 1452.38,523.483 \n",
       "  1473.34,576.413 1494.29,630.471 1515.25,684.687 1536.2,738.095 1557.15,789.755 1578.11,838.776 1599.06,884.336 1620.01,925.703 1640.97,962.254 1661.92,993.498 \n",
       "  1682.87,1019.09 1703.83,1038.84 1724.78,1052.75 1745.73,1060.98 1766.69,1063.91 1787.64,1062.08 1808.59,1056.24 1829.55,1047.32 1850.5,1036.41 1871.45,1024.72 \n",
       "  1892.41,1013.6 1913.36,1004.48 1934.31,998.785 1955.27,997.943 1976.22,1003.27 1997.18,1015.92 2018.13,1036.77 2039.08,1066.32 2060.04,1104.61 2080.99,1151.02 \n",
       "  2101.94,1204.2 2122.9,1261.82 2143.85,1320.44 2164.8,1375.31 2185.76,1420.11 2206.71,1446.71 2227.66,1444.94 2248.62,1402.25 2269.57,1303.42 2290.52,1130.21 \n",
       "  \n",
       "  \"/>\n",
       "<polyline clip-path=\"url(#clip1202)\" style=\"stroke:#e26f46; stroke-width:12; stroke-opacity:1; fill:none\" points=\"\n",
       "  216.13,1130.21 237.083,1128.54 258.037,1126.77 278.99,1124.89 299.944,1122.89 320.897,1120.76 341.851,1118.49 362.804,1116.08 383.758,1113.5 404.711,1110.73 \n",
       "  425.665,1107.78 446.618,1104.61 467.572,1101.2 488.525,1097.54 509.478,1093.59 530.432,1089.33 551.385,1084.72 572.339,1079.73 593.292,1074.31 614.246,1068.42 \n",
       "  635.199,1062.01 656.153,1055 677.106,1047.32 698.06,1038.91 719.013,1029.66 739.967,1019.47 760.92,1008.21 781.874,995.739 802.827,981.895 823.781,966.488 \n",
       "  844.734,949.299 865.688,930.076 886.641,908.531 907.595,884.336 928.548,857.122 949.502,826.477 970.455,791.955 991.408,753.092 1012.36,709.428 1033.32,660.562 \n",
       "  1054.27,606.228 1075.22,546.413 1096.18,481.525 1117.13,412.604 1138.08,341.554 1159.04,271.331 1179.99,205.982 1200.94,150.388 1221.9,109.629 1242.85,88.0053 \n",
       "  1263.8,88.0053 1284.76,109.629 1305.71,150.388 1326.66,205.982 1347.62,271.331 1368.57,341.554 1389.52,412.604 1410.48,481.525 1431.43,546.413 1452.38,606.228 \n",
       "  1473.34,660.562 1494.29,709.428 1515.25,753.092 1536.2,791.955 1557.15,826.477 1578.11,857.122 1599.06,884.336 1620.01,908.531 1640.97,930.076 1661.92,949.299 \n",
       "  1682.87,966.488 1703.83,981.895 1724.78,995.739 1745.73,1008.21 1766.69,1019.47 1787.64,1029.66 1808.59,1038.91 1829.55,1047.32 1850.5,1055 1871.45,1062.01 \n",
       "  1892.41,1068.42 1913.36,1074.31 1934.31,1079.73 1955.27,1084.72 1976.22,1089.33 1997.18,1093.59 2018.13,1097.54 2039.08,1101.2 2060.04,1104.61 2080.99,1107.78 \n",
       "  2101.94,1110.73 2122.9,1113.5 2143.85,1116.08 2164.8,1118.49 2185.76,1120.76 2206.71,1122.89 2227.66,1124.89 2248.62,1126.77 2269.57,1128.54 2290.52,1130.21 \n",
       "  \n",
       "  \"/>\n",
       "<polygon clip-path=\"url(#clip1200)\" points=\"\n",
       "1864.2,312.204 2280.76,312.204 2280.76,130.764 1864.2,130.764 \n",
       "  \" fill=\"#ffffff\" fill-rule=\"evenodd\" fill-opacity=\"1\"/>\n",
       "<polyline clip-path=\"url(#clip1200)\" style=\"stroke:#000000; stroke-width:4; stroke-opacity:1; fill:none\" points=\"\n",
       "  1864.2,312.204 2280.76,312.204 2280.76,130.764 1864.2,130.764 1864.2,312.204 \n",
       "  \"/>\n",
       "<polyline clip-path=\"url(#clip1200)\" style=\"stroke:#009af9; stroke-width:4; stroke-opacity:1; fill:none\" points=\"\n",
       "  1888.2,191.244 2032.2,191.244 \n",
       "  \"/>\n",
       "<g clip-path=\"url(#clip1200)\">\n",
       "<text style=\"fill:#000000; fill-opacity:1; font-family:Arial,Helvetica Neue,Helvetica,sans-serif; font-size:48px; text-anchor:start;\" transform=\"rotate(0, 2056.2, 208.744)\" x=\"2056.2\" y=\"208.744\">N=9</text>\n",
       "</g>\n",
       "<polyline clip-path=\"url(#clip1200)\" style=\"stroke:#e26f46; stroke-width:12; stroke-opacity:1; fill:none\" points=\"\n",
       "  1888.2,251.724 2032.2,251.724 \n",
       "  \"/>\n",
       "<g clip-path=\"url(#clip1200)\">\n",
       "<text style=\"fill:#000000; fill-opacity:1; font-family:Arial,Helvetica Neue,Helvetica,sans-serif; font-size:48px; text-anchor:start;\" transform=\"rotate(0, 2056.2, 269.224)\" x=\"2056.2\" y=\"269.224\">Runge&apos;s</text>\n",
       "</g>\n",
       "</svg>\n"
      ]
     },
     "execution_count": 14,
     "metadata": {},
     "output_type": "execute_result"
    }
   ],
   "source": [
    "N = 9\n",
    "x = range(-1.0, 1.0, length = N+1)\n",
    "y = g.(x)\n",
    "A_9 = [x_i^n for x_i in x, n in 0:N]\n",
    "c_9 = A_9 \\ y\n",
    "\n",
    "# use the coefficients to evaluate on x_display grid\n",
    "B_9 = [x_i^n for x_i in x_display, n in 0:N]   # calculate monomials for display grid\n",
    "y_9 = B_9 * c_9  # calculates for each in x_display_grid\n",
    "plot(x_display, y_9, label = \"N=9\")\n",
    "plot!(x_display, y_display, w = 3, label = \"Runge's\")"
   ]
  },
  {
   "cell_type": "markdown",
   "metadata": {},
   "source": [
    "Instead, we see that while the approximation is better near `x=0`, the oscillations near the boundaries have become worse."
   ]
  },
  {
   "cell_type": "markdown",
   "metadata": {},
   "source": [
    "### Using an Orthogonal Polynomial Basis\n",
    "\n",
    "We can minimize the numerical issues of an ill-conditioned matrix by choosing a different basis for the polynomials.\n",
    "\n",
    "For example, with [Chebyshev polymomials](https://en.wikipedia.org/wiki/Chebyshev_polynomials), which form an orthonormal basis, we can form precise high-order approximations, with very little numerical error"
   ]
  },
  {
   "cell_type": "code",
   "execution_count": 15,
   "metadata": {
    "hide-output": false
   },
   "outputs": [
    {
     "data": {
      "text/plain": [
       "3.637978807091713e-11"
      ]
     },
     "execution_count": 15,
     "metadata": {},
     "output_type": "execute_result"
    }
   ],
   "source": [
    "using ApproxFun\n",
    "N = 10000\n",
    "S = Chebyshev(0.0..10.0)  # form chebyshev basis\n",
    "x = points(S, N)  # chooses better grid points, but that could be modified\n",
    "y = f.(x)\n",
    "f_approx = Fun(S,ApproxFun.transform(S,y))  # transform fits the polynomial\n",
    "norm(f_approx.(x) - exp.(x), Inf)"
   ]
  },
  {
   "cell_type": "markdown",
   "metadata": {},
   "source": [
    "Besides the use of a different polynomial basis, we are approximating at different nodes (i.e. [Chebyshev nodes](https://en.wikipedia.org/wiki/Chebyshev_nodes)).  Interpolation with Chebyshev polynomials at the Chebyshev nodes ends up minimizing (but not eliminating) Runge’s Phenomena.\n",
    "\n",
    "To summarize the analysis,\n",
    "\n",
    "1. Check the condition number on systems you suspect might be ill-conditioned (based on intuition of collinearity).  \n",
    "1. If you are working with ill-conditioned matrices, be especially careful not to take inverse.  \n",
    "1. Avoid a monomial polynomial basis.  Instead, orthogonal polynomials (e.g. Chebyshev or Lagrange) which are orthogonal under the inner product, or non-global basis such as cubic-splines.  \n",
    "1. If possible, avoid using a uniform grid for interpolation and approximation and choose nodes appropriate for the basis.  \n",
    "\n",
    "\n",
    "However, sometimes you can’t avoid ill-conditioned matrices. This is especially common with discretization of PDEs and with linear-least squares."
   ]
  },
  {
   "cell_type": "markdown",
   "metadata": {},
   "source": [
    "## Stationary Iterative Algorithms for Linear Systems\n",
    "\n",
    "As before, consider solving the equation\n",
    "\n",
    "$$\n",
    "A x = b\n",
    "$$\n",
    "\n",
    "where we will maintain a solution that, if $ A $ is square, there is a unique solution.  However, we will now\n",
    "focus on cases where $ A $ is both massive, sparse (e.g. potentially billions of equations), and sometimes ill-conditioned.\n",
    "\n",
    "While this may seem excessive, it occurs in practice due to the curse of dimensionality, discretizations\n",
    "of PDEs, and when working with big or network data.\n",
    "\n",
    "The methods in the previous lectures (e.g. factorization and the related Gaussian elimination) are called direct methods, and able\n",
    "in theory to converge to the exact solution in a finite number of steps while working with the matrix.  As we saw before, solving a dense linear\n",
    "system without any structure takes $ O(N^3) $ operations, while a sparse system depends on the number of non-zeros.\n",
    "\n",
    "Instead, iterative solutions start with a guess on a solution and iterate until until asymptoptic convergence.  The benefit will be that\n",
    "each iteration uses a much lower order operation (e.g. an $ O(N^2) $ matrix-vector product) which will make it possible to both: (1)\n",
    "solve much larger systems, even if done less precisely and (2) define linear operators in terms of the matrix-vector products directly; and (3) find solutions\n",
    "in progress prior to the completion of all algorithm steps.\n",
    "\n",
    "So, rather than always thinking of linear operators as being matrices, we will consider linear operators that may or may not fit in memory (leading to “matrix-free methods”), but implement a left-multiply `*` operator for vectors.\n",
    "\n",
    "There are two types of iterative methods we will consider:  first are stationary methods which iterate on a map, in a similar way to fixed point problems (and which sometimes have similar contraction mapping requirements) and the second are krylov methods which iteratively solve using a basis of the matrices.\n",
    "\n",
    "For our main examples, lets solve the valuation of the continuous time markov chain from the previous section.  That is, given a payoff vector $ r $, a\n",
    "discount rate $ \\rho $, and the infinitesimal generator of the markov chain $ Q $, solve the equation\n",
    "\n",
    "$$\n",
    "\\rho v = r + Q v\n",
    "$$\n",
    "\n",
    "With the sizes and types of matrices here, iterative methods are inappropriate in practice, but it will help us understand\n",
    "the characteristics of convergence, and how they relate to matrix conditioning."
   ]
  },
  {
   "cell_type": "markdown",
   "metadata": {},
   "source": [
    "### Stationary Methods\n",
    "\n",
    "First, we will solve with a direct methods, which will give the solution to machine precision."
   ]
  },
  {
   "cell_type": "code",
   "execution_count": 16,
   "metadata": {
    "hide-output": false
   },
   "outputs": [
    {
     "data": {
      "text/plain": [
       "100.00000000000004"
      ]
     },
     "execution_count": 16,
     "metadata": {},
     "output_type": "execute_result"
    }
   ],
   "source": [
    "using LinearAlgebra, IterativeSolvers, Statistics\n",
    "α = 0.1\n",
    "N = 100\n",
    "Q = Tridiagonal(fill(α, N-1), [-α; fill(-2α, N-2); -α], fill(α, N-1))\n",
    "\n",
    "r = range(0.0, 10.0, length=N)\n",
    "ρ = 0.05\n",
    "\n",
    "A = ρ * I - Q\n",
    "v_direct = A \\ r\n",
    "mean(v_direct)"
   ]
  },
  {
   "cell_type": "markdown",
   "metadata": {},
   "source": [
    "Without proof, consider given the discount rate of $ \\rho > 0 $ this problem could be setup as a contraction for solving the Bellman\n",
    "equation through methods like value function iteration.\n",
    "\n",
    "The condition we will examine here is called [**diagonal dominance**](https://en.wikipedia.org/wiki/Diagonally_dominant_matrix).\n",
    "\n",
    "$$\n",
    "|A_{ii}| \\geq \\sum_{j\\neq i} |A_{ij}| \\quad\\text{for all } i = 1\\ldots N\n",
    "$$\n",
    "\n",
    "That is, for every row, the diagonal is weakly greater in absolute value than the sum of all of the other elements in the row.  In cases\n",
    "where it is strictly greater, we say that the matrix is strictly diagonally dominant.\n",
    "\n",
    "With our example, given that $ Q $ is the infinitesimal generator of a markov chain, we know that each row sums to 0, and hence\n",
    "it is weakly diagonally dominant.\n",
    "\n",
    "However, notice that when $ \\rho > 0 $,  $ A = ρ * I - Q $ makes the matrix strictly diagonally dominant."
   ]
  },
  {
   "cell_type": "markdown",
   "metadata": {},
   "source": [
    "### Jacobi Iteration\n",
    "\n",
    "For matrices that are **strictly diagonally dominant**, you can prove that a simple decomposition and iteration procedure\n",
    "will converge.\n",
    "\n",
    "To solve a system $ A x = b $, split the matrix $ A $ into its diagonal and off-diagonals.  That is,\n",
    "\n",
    "$$\n",
    "A = D + R\n",
    "$$\n",
    "\n",
    "where\n",
    "\n",
    "$$\n",
    "D = \\begin{bmatrix} A_{11} & 0 & \\ldots & 0\\\\\n",
    "                    0    & A_{22} & \\ldots & 0\\\\\n",
    "                    \\vdots & \\vdots & \\vdots & \\vdots\\\\\n",
    "                    0 & 0 &  \\ldots & 0 A_{NN}\n",
    "    \\end{bmatrix}\n",
    "$$\n",
    "\n",
    "and\n",
    "\n",
    "$$\n",
    "R = \\begin{bmatrix} 0 & A_{12}  & \\ldots & A_{1N} \\\\\n",
    "                    A_{21}    & 0 & \\ldots & A_{2N} \\\\\n",
    "                    \\vdots & \\vdots & \\vdots & \\vdots\\\\\n",
    "                    A_{N1}  & A_{N2}  &  \\ldots & 0\n",
    "    \\end{bmatrix}\n",
    "$$\n",
    "\n",
    "Rearrange the $ (D + R)x = b $ as\n",
    "\n",
    "$$\n",
    "\\begin{align}\n",
    "D x &= b - R x\\\\\n",
    "x &= D^{-1} (b - R x)\n",
    "\\end{align}\n",
    "$$\n",
    "\n",
    "Where, since $ D $ is diagonal, its inverse is trivial to calculate.\n",
    "\n",
    "So solve, rake an iteration $ x^k $, starting from $ x^0 $ guess, and then make the system\n",
    "\n",
    "$$\n",
    "x^{k+1} = D^{-1}(b - R x^k)\n",
    "$$\n",
    "\n",
    "The `IterativeSolvers.jl` package implements this method.\n",
    "\n",
    "For our example, we start if a guess and solve for the value function."
   ]
  },
  {
   "cell_type": "code",
   "execution_count": 17,
   "metadata": {
    "hide-output": false
   },
   "outputs": [
    {
     "name": "stdout",
     "output_type": "stream",
     "text": [
      "norm(v - v_direct, Inf) = 0.022858373200932647\n"
     ]
    },
    {
     "data": {
      "text/plain": [
       "0.022858373200932647"
      ]
     },
     "execution_count": 17,
     "metadata": {},
     "output_type": "execute_result"
    }
   ],
   "source": [
    "using IterativeSolvers, LinearAlgebra, SparseArrays\n",
    "v = zeros(N)\n",
    "jacobi!(v, A, r, maxiter = 40)\n",
    "@show norm(v - v_direct, Inf)"
   ]
  },
  {
   "cell_type": "markdown",
   "metadata": {},
   "source": [
    "With this, after 40 iterations you see the error is in the order of :math`1E-2`"
   ]
  },
  {
   "cell_type": "markdown",
   "metadata": {},
   "source": [
    "### Other Stationary Methods\n",
    "\n",
    "In practice there are many better methods than Jacobi iteration, for example [Gauss-Siedel](https://en.wikipedia.org/wiki/Gauss%E2%80%93Seidel_method). which\n",
    "splits the matrix $ A = L + U $ into an lower triangular matrix $ L $ and an upper triagular $ U $ without the diagonal.\n",
    "\n",
    "The iteration becomes\n",
    "\n",
    "$$\n",
    "L x^{k+1} = b - U x^k\n",
    "$$\n",
    "\n",
    "In that case, since the $ L $ matrix is triangular, the system can be solved in $ O(N^2) $ operations."
   ]
  },
  {
   "cell_type": "code",
   "execution_count": 18,
   "metadata": {
    "hide-output": false
   },
   "outputs": [
    {
     "name": "stdout",
     "output_type": "stream",
     "text": [
      "norm(v - v_direct, Inf) = 1.5616376089155892e-5\n"
     ]
    }
   ],
   "source": [
    "v = zeros(N)\n",
    "gauss_seidel!(v, A, r, maxiter = 40)\n",
    "@show norm(v - v_direct, Inf);"
   ]
  },
  {
   "cell_type": "markdown",
   "metadata": {},
   "source": [
    "The accuracy increases substantially, after 40 iterations you see the error is in the order of $ 1E-5 $\n",
    "\n",
    "For the case of successive-over relaxation, take a relaxation parameter $ \\omega > 1 $ and decompose the matrix as $ A = L + D + U $ where $ L, U $ are strictly upper and lower diagonal matrices, and $ D $ is a diagonal.\n",
    "\n",
    "Multiply the system by $ \\omega $ and rearrange to find\n",
    "\n",
    "$$\n",
    "(D + \\omega L) x^{k+1} = \\omega b - \\left(\\omega U +(\\omega - 1)D \\right)x^k\n",
    "$$\n",
    "\n",
    "In that case, $ D + \\omega L $ is a triangular matrix."
   ]
  },
  {
   "cell_type": "code",
   "execution_count": 19,
   "metadata": {
    "hide-output": false
   },
   "outputs": [
    {
     "name": "stdout",
     "output_type": "stream",
     "text": [
      "norm(v - v_direct, Inf) = 3.745356593753968e-7\n"
     ]
    }
   ],
   "source": [
    "v = zeros(N)\n",
    "sor!(v, A, r, 1.1, maxiter = 40)\n",
    "@show norm(v - v_direct, Inf);"
   ]
  },
  {
   "cell_type": "markdown",
   "metadata": {},
   "source": [
    "The accuracy is now $ 1E-7 $.  If you change the parameter to $ \\omega = 1.2 $, the accuracy further increases to $ 1E-9 $.\n",
    "\n",
    "This technique is a common one in numerical analysis:  sometimes adding a dampening or relaxation parameter by speeding up the process.\n",
    "\n",
    "Preconditioning is available for stationary, iterative methods (see [this example](https://en.wikipedia.org/wiki/Preconditioner#Preconditioned_iterative_methods))."
   ]
  },
  {
   "cell_type": "markdown",
   "metadata": {},
   "source": [
    "## Krylov Methods\n",
    "\n",
    "A more commonly used set of iterative methods are based on [Krylov subspaces](https://en.wikipedia.org/wiki/Krylov_subspace) which involve iterating on the $ A $ matrix and orthogonalizing to ensure the resulting iteration is not too collinear.\n",
    "\n",
    "The prototypical Krylov method is [Conjugate Gradient](https://en.wikipedia.org/wiki/Conjugate_gradient_method), which requires the $ A $ matrix to be\n",
    "symmetric and positive definite.\n",
    "\n",
    "Solving an example"
   ]
  },
  {
   "cell_type": "code",
   "execution_count": 20,
   "metadata": {
    "hide-output": false
   },
   "outputs": [
    {
     "name": "stdout",
     "output_type": "stream",
     "text": [
      "isposdef(A) = true\n"
     ]
    },
    {
     "data": {
      "text/plain": [
       "3.965857446278555e8"
      ]
     },
     "execution_count": 20,
     "metadata": {},
     "output_type": "execute_result"
    }
   ],
   "source": [
    "N = 100\n",
    "A = sprand(100, 100, 0.1)   # 10 percent non-zeros\n",
    "A = A * A'  # makes symmetric positive definite\n",
    "@show isposdef(A)\n",
    "b = rand(N)\n",
    "x_direct = A \\ b  # sparse direct solver more appropriate Here\n",
    "cond(Matrix(A * A'))"
   ]
  },
  {
   "cell_type": "markdown",
   "metadata": {},
   "source": [
    "Notice that the condition numbers tend to be large for big, random matrices.\n",
    "\n",
    "Solving this system with the conjugate gradient method"
   ]
  },
  {
   "cell_type": "code",
   "execution_count": 21,
   "metadata": {
    "hide-output": false
   },
   "outputs": [
    {
     "data": {
      "text/plain": [
       "Converged after 170 iterations."
      ]
     },
     "execution_count": 21,
     "metadata": {},
     "output_type": "execute_result"
    }
   ],
   "source": [
    "x = zeros(N)\n",
    "sol = cg!(x, A, b, log=true, maxiter = 1000)\n",
    "sol[end]"
   ]
  },
  {
   "cell_type": "markdown",
   "metadata": {},
   "source": [
    "### Introduction to Preconditioning\n",
    "\n",
    "As discussed at the beginning of the lecture, the spectral properties of matrices determine the rate of convergence\n",
    "of iterative matrices.  In particular, ill-conditioned matrices converge slowly.\n",
    "\n",
    "Preconditioning solves this issue by adjusting the spectral properties of the matrix, at the cost of a some extra computational\n",
    "operations.\n",
    "\n",
    "To see an example of a right-preconditioner, consider a matrix $ P $ which has a convenient and numerically stable inverse.  Then,\n",
    "\n",
    "$$\n",
    "\\begin{align}\n",
    "A x &= b\\\\\n",
    "A P^{-1} P x &= b\\\\\n",
    "A P^{-1} y &= b\\\\\n",
    "P x &= y\n",
    "\\end{align}\n",
    "$$\n",
    "\n",
    "That is, form $ A P^{-1} $, solve for $ y $, and then solve $ P x = y $.\n",
    "\n",
    "There are all sorts of preconditioners specific to each problem, the key features are that they have convenient left-solves and\n",
    "lower the condition number of the matrix.  To see this in action, we can look at a simple preconditioner.\n",
    "\n",
    "The diagonal precondition is simply `P = Diagonal(A)`.  We can see that this changes the condition number considerably"
   ]
  },
  {
   "cell_type": "code",
   "execution_count": 22,
   "metadata": {
    "hide-output": false
   },
   "outputs": [
    {
     "name": "stdout",
     "output_type": "stream",
     "text": [
      "cond(Matrix(A)) = 19914.4606877625\n",
      "cond(Matrix(AP)) = 18466.768136023173\n"
     ]
    }
   ],
   "source": [
    "AP = A * inv(Diagonal(A))\n",
    "@show cond(Matrix(A))\n",
    "@show cond(Matrix(AP));"
   ]
  },
  {
   "cell_type": "markdown",
   "metadata": {},
   "source": [
    "And, this consequently decreases the number of iterations"
   ]
  },
  {
   "cell_type": "code",
   "execution_count": 23,
   "metadata": {
    "hide-output": false
   },
   "outputs": [
    {
     "data": {
      "text/plain": [
       "Converged after 170 iterations."
      ]
     },
     "execution_count": 23,
     "metadata": {},
     "output_type": "execute_result"
    }
   ],
   "source": [
    "using Preconditioners\n",
    "x = zeros(N)\n",
    "P = DiagonalPreconditioner(A)\n",
    "sol = cg!(x, A, b, log=true, maxiter = 1000)\n",
    "sol[end]"
   ]
  },
  {
   "cell_type": "markdown",
   "metadata": {},
   "source": [
    "Another classic preconditioner is the Incomplete LU decomposition (i.e. it does a parameterized part of the decomposition)"
   ]
  },
  {
   "cell_type": "code",
   "execution_count": 24,
   "metadata": {
    "hide-output": false
   },
   "outputs": [
    {
     "data": {
      "text/plain": [
       "Converged after 78 iterations."
      ]
     },
     "execution_count": 24,
     "metadata": {},
     "output_type": "execute_result"
    }
   ],
   "source": [
    "using IncompleteLU\n",
    "x = zeros(N)\n",
    "P = ilu(A, τ = 0.1)\n",
    "sol = cg!(x, A, b, Pl = P, log=true, maxiter = 1000)\n",
    "sol[end]"
   ]
  },
  {
   "cell_type": "markdown",
   "metadata": {},
   "source": [
    "A good rule of thumb is that you should almost always be using a preconditioner with iterative methods, and you should experiment to find ones appropriate for your problem.\n",
    "\n",
    "Finally, if we naively use another type (called [Algebraic Multigrid](https://en.wikipedia.org/wiki/Multigrid_method#Algebraic_MultiGrid_%28AMG%29)) gives us a further drop in the number of iterations."
   ]
  },
  {
   "cell_type": "code",
   "execution_count": 25,
   "metadata": {
    "hide-output": false
   },
   "outputs": [
    {
     "data": {
      "text/plain": [
       "Converged after 58 iterations."
      ]
     },
     "execution_count": 25,
     "metadata": {},
     "output_type": "execute_result"
    }
   ],
   "source": [
    "x = zeros(N)\n",
    "P = AMGPreconditioner{RugeStuben}(A)\n",
    "sol = cg!(x, A, b, Pl = P, log=true, maxiter = 1000)\n",
    "sol[end]"
   ]
  },
  {
   "cell_type": "markdown",
   "metadata": {},
   "source": [
    "### Methods for General Matrices\n",
    "\n",
    "There are many algorithms which exploit matrix symmetry and positive-definitness (e.g. the conjugate gradient method) or simply symmetric/hermitian (e.g. MINRES).\n",
    "\n",
    "On the other hand, if you do not have any structure to your sparse matrix, then GMRES is a good approach.\n",
    "\n",
    "To experiment with these methods, we will use our ill-conditioned interpolation problem with a monomial basis"
   ]
  },
  {
   "cell_type": "code",
   "execution_count": 26,
   "metadata": {
    "hide-output": false
   },
   "outputs": [
    {
     "name": "stdout",
     "output_type": "stream",
     "text": [
      "cond(A) = 4.462824600194546e12, converged in Converged after 11 iterations. iterations with norm error 6.507616490125656e-8\n"
     ]
    }
   ],
   "source": [
    "using IterativeSolvers\n",
    "\n",
    "N = 10\n",
    "f(x) = exp(x)\n",
    "x = range(0.0, 10.0, length = N+1)\n",
    "y = f.(x)  # generate some data to interpolate\n",
    "A = sparse([x_i^n for x_i in x, n in 0:N])\n",
    "c = zeros(N+1)  # initial guess required for iterative solutions\n",
    "results = gmres!(c, A, y, log=true, maxiter = 1000)\n",
    "println(\"cond(A) = $(cond(Matrix(A))), converged in $(results[end]) iterations with norm error $(norm(A*c - y, Inf))\")"
   ]
  },
  {
   "cell_type": "markdown",
   "metadata": {},
   "source": [
    "That method converged in about 10 iterations.  Now try it with an Incomplete LU preconditioner, we see it converged after the first iteration."
   ]
  },
  {
   "cell_type": "code",
   "execution_count": 27,
   "metadata": {
    "hide-output": false
   },
   "outputs": [
    {
     "name": "stdout",
     "output_type": "stream",
     "text": [
      "cond(A) = 4.462824600194546e12, converged in 2 iterations with norm error 4.854518920183182e-8\n"
     ]
    }
   ],
   "source": [
    "N = 10\n",
    "f(x) = exp(x)\n",
    "x = range(0.0, 10.0, length = N+1)\n",
    "y = f.(x)  # generate some data to interpolate\n",
    "A = [x_i^n for x_i in x, n in 0:N]\n",
    "P = ilu(sparse(A), τ = 0.1)\n",
    "c = zeros(N+1)  # initial guess required for iterative solutions\n",
    "results = gmres!(c, A, y, Pl = P,log=true, maxiter = 1000)\n",
    "println(\"cond(A) = $(cond(A)), converged in $(length(results)) iterations with norm error $(norm(A*c - y, Inf))\")"
   ]
  },
  {
   "cell_type": "code",
   "execution_count": null,
   "metadata": {},
   "outputs": [],
   "source": []
  }
 ],
 "metadata": {
  "filename": "iterative_methods_sparsity.rst",
  "kernelspec": {
   "display_name": "Julia 1.2.0",
   "language": "julia",
   "name": "julia-1.2"
  },
  "language_info": {
   "file_extension": ".jl",
   "mimetype": "application/julia",
   "name": "julia",
   "version": "1.2.0"
  },
  "title": "Conditioning and Iterative Methods"
 },
 "nbformat": 4,
 "nbformat_minor": 4
}
