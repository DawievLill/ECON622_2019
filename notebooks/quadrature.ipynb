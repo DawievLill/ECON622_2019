{
 "cells": [
  {
   "cell_type": "code",
   "execution_count": 64,
   "metadata": {},
   "outputs": [],
   "source": [
    "using Expectations, ForwardDiff, QuadGK, LinearAlgebra, FastGaussQuadrature"
   ]
  },
  {
   "cell_type": "markdown",
   "metadata": {},
   "source": [
    "## Trapezoidal Rule (uniform and non-uniform)\n",
    "$$ \\int_{x_{\\min}}^{x_{\\max}} f(x) dx \\approx \\sum_{i=1}^N f(x_i) w_i = f(\\vec{x}) \\cdot w $$"
   ]
  },
  {
   "cell_type": "code",
   "execution_count": 32,
   "metadata": {},
   "outputs": [
    {
     "name": "stdout",
     "output_type": "stream",
     "text": [
      "(quadgk(f, x_min, x_max))[1] = 0.3333333333333333\n",
      "trapz_integral(f, nodes) = 0.33335000000000015\n"
     ]
    }
   ],
   "source": [
    "function trapz_integral(f, nodes::AbstractRange)\n",
    "    M = length(nodes)\n",
    "    Δ = step(nodes)\n",
    "    total = zero(eltype(nodes))\n",
    "    for (i, x) in enumerate(nodes)\n",
    "        weight = ((i == 1) || (i == M)) ?  Δ/2 : Δ   # ternary operation, Condition ? if true : if false\n",
    "        total += weight * f(x)\n",
    "    end\n",
    "    return total\n",
    "end\n",
    "f(x) = x^2\n",
    "x_min = 0.0\n",
    "x_max = 1.0\n",
    "nodes = x_min:0.01:x_max\n",
    "@show quadgk(f, x_min, x_max)[1]\n",
    "@show trapz_integral(f, nodes);"
   ]
  },
  {
   "cell_type": "code",
   "execution_count": 61,
   "metadata": {},
   "outputs": [
    {
     "name": "stdout",
     "output_type": "stream",
     "text": [
      "w ⋅ f.(nodes) = 0.33335000000000004\n"
     ]
    }
   ],
   "source": [
    "function trapz_weights(nodes::AbstractRange)\n",
    "    M = length(nodes)\n",
    "    Δ = step(nodes)\n",
    "    return [Δ/2; Δ*ones(M-2); Δ/2]\n",
    "end\n",
    "w = trapz_weights(nodes)\n",
    "@show w ⋅ f.(nodes);"
   ]
  },
  {
   "cell_type": "code",
   "execution_count": 63,
   "metadata": {},
   "outputs": [
    {
     "name": "stdout",
     "output_type": "stream",
     "text": [
      "w ⋅ f.(nodes_array) = 0.33335\n"
     ]
    }
   ],
   "source": [
    "function trapz_weights(nodes::AbstractArray)  # Note multiple dispatch\n",
    "    M = length(nodes)\n",
    "    Δ = diff(nodes)\n",
    "    prepend!(Δ, NaN) # To keep the indexing straight. Now, Δ[2] = Δ_2 = z_2 - z_1. And NaN will throw an error if we try to use it.\n",
    "    interiorWeights = [(Δ[i] + Δ[i+1])/2 for i = 2:M-1]\n",
    "    return [Δ[2]/2; interiorWeights; Δ[M]/2]\n",
    "end\n",
    "nodes_array = Array(nodes)\n",
    "w = trapz_weights(nodes_array)\n",
    "@show w ⋅ f.(nodes_array);"
   ]
  },
  {
   "cell_type": "markdown",
   "metadata": {},
   "source": [
    "## Example: Legendre Quadrature\n",
    "See https://en.wikipedia.org/wiki/Gaussian_quadrature#Gauss%E2%80%93Legendre_quadrature\n",
    "$$ \\int_{-1}^1 f(x) dx \\approx \\sum_{i=1}^N f(x_i) w_i = f(\\vec{x}) \\cdot w $$\n"
   ]
  },
  {
   "cell_type": "code",
   "execution_count": 76,
   "metadata": {},
   "outputs": [
    {
     "name": "stdout",
     "output_type": "stream",
     "text": [
      "(quadgk(f, -1.0, 1.0))[1] = 0.6666666666666667\n"
     ]
    },
    {
     "data": {
      "text/plain": [
       "0.666666666666667"
      ]
     },
     "execution_count": 76,
     "metadata": {},
     "output_type": "execute_result"
    }
   ],
   "source": [
    "N = 10\n",
    "nodes, weights = gausslegendre(N)  # can adjust to change range\n",
    "@show quadgk(f, -1.0, 1.0)[1]\n",
    "dot(weights, f.(nodes)) # note few evaluations"
   ]
  },
  {
   "cell_type": "code",
   "execution_count": null,
   "metadata": {},
   "outputs": [],
   "source": []
  }
 ],
 "metadata": {
  "kernelspec": {
   "display_name": "Julia 1.2.0",
   "language": "julia",
   "name": "julia-1.2"
  },
  "language_info": {
   "file_extension": ".jl",
   "mimetype": "application/julia",
   "name": "julia",
   "version": "1.2.0"
  }
 },
 "nbformat": 4,
 "nbformat_minor": 4
}
