{
 "cells": [
  {
   "cell_type": "code",
   "execution_count": 1,
   "metadata": {},
   "outputs": [],
   "source": [
    "using Expectations, ForwardDiff, QuadGK, LinearAlgebra, FastGaussQuadrature"
   ]
  },
  {
   "cell_type": "markdown",
   "metadata": {},
   "source": [
    "## Adaptive Quadrature\n",
    "Gauss-Kronod is very precise, changes step sizes"
   ]
  },
  {
   "cell_type": "code",
   "execution_count": 2,
   "metadata": {},
   "outputs": [
    {
     "name": "stdout",
     "output_type": "stream",
     "text": [
      "(quadgk(f, x_min, x_max))[1] = 0.3333333333333333\n"
     ]
    },
    {
     "data": {
      "text/plain": [
       "0.3333333333333333"
      ]
     },
     "execution_count": 2,
     "metadata": {},
     "output_type": "execute_result"
    }
   ],
   "source": [
    "f(x) = x^2\n",
    "x_min = 0.0\n",
    "x_max = 1.0\n",
    "x = x_min:0.01:x_max\n",
    "x_array = Array(x)  # turns into an array.  Doesn't need to be uniform anymore\n",
    "@show quadgk(f, x_min, x_max)[1]"
   ]
  },
  {
   "cell_type": "markdown",
   "metadata": {},
   "source": [
    "## Trapezoidal Rule (uniform and non-uniform)\n",
    "$$ \\int_{x_{\\min}}^{x_{\\max}} f(x) dx \\approx \\sum_{i=1}^N f(x_i) w_i = f(\\vec{x}) \\cdot w $$"
   ]
  },
  {
   "cell_type": "code",
   "execution_count": 3,
   "metadata": {},
   "outputs": [
    {
     "data": {
      "text/plain": [
       "trapz_integral (generic function with 1 method)"
      ]
     },
     "execution_count": 3,
     "metadata": {},
     "output_type": "execute_result"
    }
   ],
   "source": [
    "function trapz_integral(f, nodes::AbstractRange)\n",
    "    M = length(nodes)\n",
    "    Δ = step(nodes)\n",
    "    total = zero(eltype(nodes))\n",
    "    for (i, x) in enumerate(nodes)\n",
    "        weight = ((i == 1) || (i == M)) ?  Δ/2 : Δ   # ternary operation, Condition ? if true : if false\n",
    "        total += weight * f(x)\n",
    "    end\n",
    "    return total\n",
    "end"
   ]
  },
  {
   "cell_type": "code",
   "execution_count": 5,
   "metadata": {},
   "outputs": [
    {
     "data": {
      "text/plain": [
       "0.33335000000000015"
      ]
     },
     "execution_count": 5,
     "metadata": {},
     "output_type": "execute_result"
    }
   ],
   "source": [
    "trapz_integral(f, x)"
   ]
  },
  {
   "cell_type": "code",
   "execution_count": 6,
   "metadata": {},
   "outputs": [
    {
     "data": {
      "text/plain": [
       "trapz_weights (generic function with 1 method)"
      ]
     },
     "execution_count": 6,
     "metadata": {},
     "output_type": "execute_result"
    }
   ],
   "source": [
    "function trapz_weights(nodes::AbstractArray)  # Note multiple dispatch\n",
    "    println(\"trapz for AbstractArray:\")\n",
    "    M = length(nodes)\n",
    "    Δ = diff(nodes)\n",
    "    prepend!(Δ, NaN) # To keep the indexing straight. Now, Δ[2] = Δ_2 = z_2 - z_1. And NaN will throw an error if we try to use it.\n",
    "    interiorWeights = [(Δ[i] + Δ[i+1])/2 for i = 2:M-1]\n",
    "    return [Δ[2]/2; interiorWeights; Δ[M]/2]\n",
    "end"
   ]
  },
  {
   "cell_type": "code",
   "execution_count": 7,
   "metadata": {},
   "outputs": [
    {
     "name": "stdout",
     "output_type": "stream",
     "text": [
      "trapz for AbstractArray:\n",
      "w ⋅ f.(x_array) = 0.33335\n"
     ]
    }
   ],
   "source": [
    "w = trapz_weights(x_array)  # call with array\n",
    "@show w ⋅ f.(x_array);"
   ]
  },
  {
   "cell_type": "code",
   "execution_count": 9,
   "metadata": {},
   "outputs": [
    {
     "name": "stdout",
     "output_type": "stream",
     "text": [
      "trapz for AbstractArray:\n",
      "w ⋅ f.(x) = 0.33335\n"
     ]
    }
   ],
   "source": [
    "w = trapz_weights(x) # call with range\n",
    "@show w ⋅ f.(x);"
   ]
  },
  {
   "cell_type": "code",
   "execution_count": 10,
   "metadata": {},
   "outputs": [
    {
     "data": {
      "text/plain": [
       "trapz_weights (generic function with 2 methods)"
      ]
     },
     "execution_count": 10,
     "metadata": {},
     "output_type": "execute_result"
    }
   ],
   "source": [
    "# Specialization.  New method added to `trapz_weights`\n",
    "function trapz_weights(nodes::AbstractRange)\n",
    "    println(\"trapz for AbstractRange:\")\n",
    "    M = length(nodes)\n",
    "    Δ = step(nodes)\n",
    "    return [Δ/2; Δ*ones(M-2); Δ/2]\n",
    "end"
   ]
  },
  {
   "cell_type": "code",
   "execution_count": 11,
   "metadata": {},
   "outputs": [
    {
     "name": "stdout",
     "output_type": "stream",
     "text": [
      "trapz for AbstractRange:\n",
      "w ⋅ f.(x) = 0.33335000000000004\n"
     ]
    }
   ],
   "source": [
    "w = trapz_weights(x)\n",
    "@show w ⋅ f.(x);"
   ]
  },
  {
   "cell_type": "markdown",
   "metadata": {},
   "source": [
    "## Example: Legendre Quadrature\n",
    "See https://en.wikipedia.org/wiki/Gaussian_quadrature#Gauss%E2%80%93Legendre_quadrature\n",
    "$$ \\int_{-1}^1 f(x) dx \\approx \\sum_{i=1}^N f(x_i) w_i = f(\\vec{x}) \\cdot w $$\n"
   ]
  },
  {
   "cell_type": "code",
   "execution_count": 14,
   "metadata": {},
   "outputs": [
    {
     "name": "stdout",
     "output_type": "stream",
     "text": [
      "(quadgk(f, -1.0, 1.0))[1] = 0.6666666666666667\n"
     ]
    },
    {
     "data": {
      "text/plain": [
       "0.666666666666667"
      ]
     },
     "execution_count": 14,
     "metadata": {},
     "output_type": "execute_result"
    }
   ],
   "source": [
    "N = 10\n",
    "x, w = gausslegendre(N)  # can adjust to change range\n",
    "@show quadgk(f, -1.0, 1.0)[1]\n",
    "dot(w, f.(x)) # note few evaluations"
   ]
  }
 ],
 "metadata": {
  "kernelspec": {
   "display_name": "Julia 1.2.0",
   "language": "julia",
   "name": "julia-1.2"
  },
  "language_info": {
   "file_extension": ".jl",
   "mimetype": "application/julia",
   "name": "julia",
   "version": "1.2.0"
  }
 },
 "nbformat": 4,
 "nbformat_minor": 4
}
